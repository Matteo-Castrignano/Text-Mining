{
 "cells": [
  {
   "cell_type": "code",
   "execution_count": 1,
   "metadata": {},
   "outputs": [],
   "source": [
    "import twint\n",
    "import csv\n",
    "import time\n",
    "import os\n",
    "import nest_asyncio\n",
    "nest_asyncio.apply()"
   ]
  },
  {
   "cell_type": "code",
   "execution_count": 2,
   "metadata": {},
   "outputs": [],
   "source": [
    "#nome del vaccino in AND\n",
    "vaccino = \" Astrazeneca\"\n",
    "#vaccino = \" Pfizer\"\n",
    "#vaccino = \" Moderna\"\n",
    "#vaccino = \" Sputnik\"\n",
    "#vaccino = \" Johnson\"\n",
    "#vaccino = \" janssen\"\n",
    "#vaccino = \" CureVac\"\n",
    "#vaccino = \" Novavax\"\n",
    "#vaccino = \" Sinovac\"\n",
    "#vaccino = \" vaxzevria\""
   ]
  },
  {
   "cell_type": "code",
   "execution_count": 3,
   "metadata": {},
   "outputs": [
    {
     "name": "stdout",
     "output_type": "stream",
     "text": [
      "vaccino Astrazeneca OR vaccini Astrazeneca OR vaccinato Astrazeneca OR vaccinata Astrazeneca OR vaccinati Astrazeneca OR vaccinate Astrazeneca OR vaccinazione Astrazeneca OR anticovid Astrazeneca OR #iomivaccino Astrazeneca OR #iovaccino Astrazeneca OR #sivaccino Astrazeneca OR #novaccino Astrazeneca OR #vaccinoCovid Astrazeneca OR #vaccinoAnticovid Astrazeneca OR trombosi vaccini Astrazeneca OR trombosi vaccino Astrazeneca\n"
     ]
    }
   ],
   "source": [
    "string = \"\"\n",
    "condition = \" OR \"\n",
    "start = True\n",
    "with open('keywords_application.txt', 'r') as file:\n",
    "    for line in file:\n",
    "        if start == True:\n",
    "            start = False\n",
    "        else:\n",
    "            string += condition            \n",
    "        \n",
    "        string += line.strip()\n",
    "        string += vaccino\n",
    "        \n",
    "print(string)"
   ]
  },
  {
   "cell_type": "code",
   "execution_count": null,
   "metadata": {},
   "outputs": [],
   "source": [
    "c = twint.Config()\n",
    "c.Lang = 'it'\n",
    "c.Search = string\n",
    "c.Custom[\"tweet\"] = [\"id\",\"date\",\"time\",\"tweet\",\"likes_count\"]\n",
    "#c.Since = \"2021-02-01\"\n",
    "#c.Until = \"2021-02-28\"\n",
    "c.Store_csv = True\n",
    "c.Filter_retweets = True\n",
    "c.Output = \"period.csv\""
   ]
  },
  {
   "cell_type": "code",
   "execution_count": null,
   "metadata": {},
   "outputs": [],
   "source": [
    "twint.run.Search(c)"
   ]
  },
  {
   "cell_type": "code",
   "execution_count": null,
   "metadata": {},
   "outputs": [],
   "source": []
  },
  {
   "cell_type": "code",
   "execution_count": null,
   "metadata": {},
   "outputs": [],
   "source": []
  }
 ],
 "metadata": {
  "kernelspec": {
   "display_name": "Python 3",
   "language": "python",
   "name": "python3"
  },
  "language_info": {
   "codemirror_mode": {
    "name": "ipython",
    "version": 3
   },
   "file_extension": ".py",
   "mimetype": "text/x-python",
   "name": "python",
   "nbconvert_exporter": "python",
   "pygments_lexer": "ipython3",
   "version": "3.8.5"
  }
 },
 "nbformat": 4,
 "nbformat_minor": 4
}
