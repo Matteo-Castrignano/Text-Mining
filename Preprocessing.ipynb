{
 "cells": [
  {
   "cell_type": "code",
   "execution_count": 26,
   "metadata": {},
   "outputs": [],
   "source": [
    "import twint\n",
    "import csv\n",
    "import time\n",
    "import os\n",
    "import re"
   ]
  },
  {
   "cell_type": "code",
   "execution_count": 27,
   "metadata": {},
   "outputs": [],
   "source": [
    "def FindURLs(string): \n",
    "    url = re.findall('http[s]?://(?:[a-zA-Z]|[0-9]|[$-_@.&+]|[!*\\(\\), ]|(?:%[0-9a-fA-F][0-9a-fA-F]))+', string)\n",
    "    pics = re.findall('pic.twitter.com/(?:[a-zA-Z]|[0-9]|[$-_@.&+]|[!*\\(\\), ]|(?:%[0-9a-fA-F][0-9a-fA-F]))+',string)\n",
    "    return url + pics\n",
    "\n",
    "def FindSpecialChar(string): \n",
    "    char = re.findall('[#@]', string)\n",
    "    return char"
   ]
  },
  {
   "cell_type": "code",
   "execution_count": 28,
   "metadata": {},
   "outputs": [],
   "source": [
    "with open(\"./none.csv\", newline=\"\", encoding=\"ISO-8859-1\") as filecsv:\n",
    "    lettore = csv.reader(filecsv,delimiter=\",\")\n",
    "    with open(\"./dataset.csv\", \"w\", newline=\"\", encoding=\"ISO-8859-1\") as csv_file:\n",
    "        fields = ['timestamp', 'tweet','likes_count','lable']\n",
    "        writer = csv.writer(csv_file, delimiter=',', quotechar='\"', quoting=csv.QUOTE_MINIMAL)\n",
    "        writer.writerow(fields)\n",
    "        for linea in lettore: \n",
    "            \n",
    "            linea[0:2] = [' '.join(linea[0:2])]\n",
    "                \n",
    "            for url in FindURLs(linea[1]):\n",
    "                linea[1] = linea[1].replace(url, '')\n",
    "                    \n",
    "            for char in FindSpecialChar(linea[1]):\n",
    "                linea[1] = linea[1].replace(char, '') \n",
    "                \n",
    "            linea[3] = \"\"\n",
    "                \n",
    "            writer.writerow(linea)"
   ]
  },
  {
   "cell_type": "code",
   "execution_count": null,
   "metadata": {},
   "outputs": [],
   "source": []
  }
 ],
 "metadata": {
  "kernelspec": {
   "display_name": "Python 3",
   "language": "python",
   "name": "python3"
  },
  "language_info": {
   "codemirror_mode": {
    "name": "ipython",
    "version": 3
   },
   "file_extension": ".py",
   "mimetype": "text/x-python",
   "name": "python",
   "nbconvert_exporter": "python",
   "pygments_lexer": "ipython3",
   "version": "3.8.5"
  }
 },
 "nbformat": 4,
 "nbformat_minor": 4
}
