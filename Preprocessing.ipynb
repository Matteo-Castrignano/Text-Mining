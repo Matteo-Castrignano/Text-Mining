{
 "cells": [
  {
   "cell_type": "code",
   "execution_count": 1,
   "metadata": {},
   "outputs": [],
   "source": [
    "import csv\n",
    "import time\n",
    "import os\n",
    "import re\n",
    "import unidecode"
   ]
  },
  {
   "cell_type": "code",
   "execution_count": 2,
   "metadata": {},
   "outputs": [],
   "source": [
    "def FindURLs(string): \n",
    "    url = re.findall('http[s]?://(?:[a-zA-Z]|[0-9]|[$-_@.&+]|[!*\\(\\), ]|(?:%[0-9a-fA-F][0-9a-fA-F]))+', string)\n",
    "    pics = re.findall('pic.twitter.com/(?:[a-zA-Z]|[0-9]|[$-_@.&+]|[!*\\(\\), ]|(?:%[0-9a-fA-F][0-9a-fA-F]))+',string)\n",
    "    return url + pics\n",
    "\n",
    "def FindSpecialChar(string): \n",
    "    char = re.findall('[#]', string)\n",
    "    return char\n",
    "\n",
    "def FindMentions(string): \n",
    "    char = re.findall('@[A-Za-z0-9_]+', string)\n",
    "    return char\n",
    "\n",
    "def FindSpaces(string): \n",
    "    char = re.findall(' +', string)\n",
    "    return char\n",
    "\n",
    "def FindMark(string): \n",
    "    char = re.findall(r'[^\\w\\s]', string)\n",
    "    return char"
   ]
  },
  {
   "cell_type": "code",
   "execution_count": 3,
   "metadata": {},
   "outputs": [],
   "source": [
    "#os.remove(\"preprocessDataset.csv\") #ATTENZIONE\n",
    "with open(\"./tweet.csv\", newline=\"\", encoding=\"UTF-8\") as filecsv:\n",
    "    lettore = csv.reader(filecsv,delimiter=\",\")\n",
    "    with open(\"test_set.csv\", \"w\", newline=\"\", encoding=\"UTF-8\") as csv_file:\n",
    "        fields = ['id','timestamp','username','tweet','likes_count','label']\n",
    "        writer = csv.writer(csv_file, delimiter=',', quotechar='\"', quoting=csv.QUOTE_MINIMAL)\n",
    "        writer.writerow(fields)\n",
    "        next(lettore)\n",
    "        for linea in lettore: \n",
    "            \n",
    "            linea[1:3] = [' '.join(linea[1:3])]          \n",
    "                       \n",
    "            for url in FindURLs(linea[3]):\n",
    "                linea[3] = linea[3].replace(url, '')                \n",
    "                    \n",
    "            for char in FindSpecialChar(linea[3]):\n",
    "                linea[3] = linea[3].replace(char, '')\n",
    "                \n",
    "            for mention in FindMentions(linea[3]):\n",
    "                linea[3] = linea[3].replace(mention, '')                \n",
    "                         \n",
    "            linea[3] = linea[3].lower()\n",
    "            \n",
    "            linea[3] = unidecode.unidecode(linea[3])\n",
    "            \n",
    "            for mark in FindMark(linea[3]):\n",
    "                linea[3] = linea[3].replace(mark, ' ')\n",
    "                \n",
    "            for space in FindSpaces(linea[3]):\n",
    "                linea[3] = linea[3].replace(space, ' ')\n",
    "                \n",
    "            writer.writerow(linea)"
   ]
  },
  {
   "cell_type": "code",
   "execution_count": null,
   "metadata": {},
   "outputs": [],
   "source": []
  }
 ],
 "metadata": {
  "kernelspec": {
   "display_name": "Python 3",
   "language": "python",
   "name": "python3"
  },
  "language_info": {
   "codemirror_mode": {
    "name": "ipython",
    "version": 3
   },
   "file_extension": ".py",
   "mimetype": "text/x-python",
   "name": "python",
   "nbconvert_exporter": "python",
   "pygments_lexer": "ipython3",
   "version": "3.8.5"
  }
 },
 "nbformat": 4,
 "nbformat_minor": 4
}
