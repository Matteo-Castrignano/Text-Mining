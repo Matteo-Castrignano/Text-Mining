{
 "cells": [
  {
   "cell_type": "code",
   "execution_count": 1,
   "metadata": {},
   "outputs": [],
   "source": [
    "import twint\n",
    "import csv\n",
    "import time\n",
    "import os\n",
    "import nest_asyncio\n",
    "nest_asyncio.apply()"
   ]
  },
  {
   "cell_type": "code",
   "execution_count": 2,
   "metadata": {},
   "outputs": [
    {
     "name": "stdout",
     "output_type": "stream",
     "text": [
      "vaccino OR vaccini OR vaccinato OR vaccinata OR vaccinati OR vaccinate OR vaccinazione OR anticovid OR Astrazeneca OR Pfizer OR Moderna OR Sputnik OR Johnson OR #iomivaccino OR #iovaccino OR #sivaccino OR #novaccino OR anticovid OR janssen OR CureVac OR Novavax OR Sinovac OR vaxzevria\n"
     ]
    }
   ],
   "source": [
    "string = \"\"\n",
    "condition = \" OR \"\n",
    "start = True\n",
    "with open('keywords.txt', 'r') as file:\n",
    "    for line in file:\n",
    "        if start == True:\n",
    "            start = False\n",
    "        else:\n",
    "            string += condition            \n",
    "        \n",
    "        string += line.strip()\n",
    "        \n",
    "print(string)"
   ]
  },
  {
   "cell_type": "code",
   "execution_count": 3,
   "metadata": {},
   "outputs": [],
   "source": [
    "os.remove(\"none.csv\")\n",
    "c = twint.Config()\n",
    "c.Lang = 'en'\n",
    "c.Search = string\n",
    "c.Custom[\"tweet\"] = [\"date\",\"time\",\"tweet\",\"likes_count\",\"language\"]\n",
    "c.Since = \"2021-01-01\"\n",
    "c.Until = \"2021-05-31\"\n",
    "c.Store_csv = True\n",
    "c.Filter_retweets = True\n",
    "c.Output = \"none.csv\"\n",
    "c.Limit = 100"
   ]
  },
  {
   "cell_type": "code",
   "execution_count": 4,
   "metadata": {},
   "outputs": [
    {
     "name": "stdout",
     "output_type": "stream",
     "text": [
      "1392786958749999107 2021-05-13 12:21:02 +0200 <AndreiaSadi> Que matéria espetacular em @JornalOGlobo: omissão reconstituída, leitura obrigatória do passo a passo de como o governo Bolsonaro ignorou a vacina da Pfizer.    https://t.co/YSLVb6zX5g  https://t.co/MeMZE3FwPV\n",
      "1392786952513073155 2021-05-13 12:21:00 +0200 <suspilne_news> В Україні використали майже всю вакцину #AstraZeneca для першої дози — #МОЗ   https://t.co/3aobVaV8If\n",
      "1392786951502192641 2021-05-13 12:21:00 +0200 <everdienvd> @psych_wijchen @Bartissimus Ik ben een nacht ziek geweest van 1e prik AZ en partner is nu behoorlijk ziek van 2e prik Moderna (3e dag). De kans is heel klein dat we het hebben gehad ivm grotendeels zelfisolatie.\n",
      "1392786950361391105 2021-05-13 12:21:00 +0200 <mervatim> Dreamt I was in a movie theatre with @sarahchihaya. We took off our shoes; settled in to watch. I was too absorbed to notice when she pulled the syringe out of her bag. She stabbed me in the upper arm with it; whispered, \"It's AstraZeneca, bitch.\" My revenge? I stole her shoes.\n",
      "1392786949841240065 2021-05-13 12:21:00 +0200 <TribunaVa> 💉 #Sociedad La combinación de Pfizer y AstraZeneca produce más reacciones adversas  https://t.co/rebgSSXBqA  https://t.co/vi22shIMFr\n",
      "1392786949216288768 2021-05-13 12:21:00 +0200 <Rish_0206> @Suhas_News Will they vaccinate elderly at home ?\n",
      "1392786946242580482 2021-05-13 12:20:59 +0200 <heyshutyourface> @sputnik_TR BRUHHHH\n",
      "1392786944489316354 2021-05-13 12:20:58 +0200 <journalchretien> Le vaccin Sinovac s’avère très efficace pour protéger les professionnels de santé en Indonésie  https://t.co/3XNQQI7f2q\n",
      "1392786944346763264 2021-05-13 12:20:58 +0200 <europa_fm> Los cuatro conciertos de Maluma en España: dónde son, cuándo, cómo conseguir entradas, cuánto cuestan y qué medidas anticovid tendrán  https://t.co/ryoseHs3Xy\n",
      "1392786932732620800 2021-05-13 12:20:56 +0200 <citizennacho> with moderna pfizer J&amp;J and AZTRA\n",
      "1392786922318204928 2021-05-13 12:20:53 +0200 <Dawson10G> PFUCK PFizer and Gates.     https://t.co/c0lHajB3Hg  https://t.co/RHnYZk6ftc\n",
      "1392786920116264962 2021-05-13 12:20:53 +0200 <RaminNayersina> Blood Expert Says He Found Why Some Covid-19 Vaccines Trigger Rare Clots   A scientist in Germany thinks he has found an answer as researchers around world examine AstraZeneca and Johnson &amp; Johnson shots   By Bojan Pancevski   https://t.co/iCZRbNFqUc  WSJ 5/13/2021\n",
      "1392786918975414276 2021-05-13 12:20:52 +0200 <knipoog50> Boris Johnson heeft in harde bewoordingen Palestijns geweld veroordeeld en dat Israel het volste recht heeft om zich te verdedigen en wenste Israel veel sterkte!\n",
      "1392786914265206788 2021-05-13 12:20:51 +0200 <DrBouzekri> @sputnik_fr Le crispé de vals, un vendu. Voilà ce que fait l'armée criminelle israélienne  https://t.co/a5Spp9EiOl\n",
      "1392786913724182532 2021-05-13 12:20:51 +0200 <serhad86243546> @sputnik_TR Sende kankasısın\n",
      "1392786911832465410 2021-05-13 12:20:51 +0200 <wnsnbln> Harald Juhnkes Definition von Glück (2021 Edition)? ⠀  Leicht einen sitzen und 2 Termine⠀ ⠀ #impfung #covid #glück #vaccines #moderna\n",
      "1392786905243127809 2021-05-13 12:20:49 +0200 <anirudhmurali88> @PTI_News Embassies are sovereign, so if you step in French embassy, technically you are in France. Hence they can import and vaccinate their nationals.\n",
      "1392786904609968128 2021-05-13 12:20:49 +0200 <Rockrider2> @AndColorPockeT @vikrantkumar Lancet published a paper recently highlighting issues with trial data for Sputnik.\n",
      "1392786904492519426 2021-05-13 12:20:49 +0200 <nandkis09458351> Pfizer, Moderna, Johnson and Johnson vaccines effective against B1617 variant of COVID-19  https://t.co/fsz5hhh2p8\n",
      "1392786903502626819 2021-05-13 12:20:49 +0200 <immediatonet> 🔴 La Regione #Puglia apre le vaccinazioni anticovid alla fascia 40-49 anni. @ProfLopalco : “Consapevoli dello sforzo in atto” ➡️  https://t.co/ssWwLDLrs5\n",
      "1392786898070953984 2021-05-13 12:20:47 +0200 <ayrtoncentre> @myracingtips Think it is a good thing tbh. Loves cut in the ground and Johnson's horses are hard to pass when in front\n",
      "1392786896254869504 2021-05-13 12:20:47 +0200 <JoeBert32> @archer_rs Of course, there were so many taken in by the racist stupidity of #Brexit, not least #Johnson and #Gove It's much too ate for #UK to have learned from its #jingoism\n",
      "1392786890093469696 2021-05-13 12:20:45 +0200 <1037WTIB> More children are rolling up their sleeves to get protected against #COVID19. Several states will start giving #Pfizer vaccinations to 12-to-15-year-olds today. The #CDC signed off yesterday, recommending those kids also get other routine shots at the same time.\n",
      "1392786889808220162 2021-05-13 12:20:45 +0200 <evolusyoner> @sputnik_TR Hangi yargı?\n",
      "1392786889451577346 2021-05-13 12:20:45 +0200 <bblyie> ไม่ใช่ไรนะแม่กูที่เป็นอสม.ถูกบังคับฉีด sinovac โดยบอกว่าตัวยามันดีผลข้างเคียงที่เห็นก็เป็นส่วนน้อย พูดมาได้นะอิสัส ดีหนักหนาทำไมไม่เก็บไว้ฉีดเองล่ะมาไล่ต้อนชาวบ้านตาสีตาสีให้ฉีดทำควยไรเอาของเหี้ยๆให้คนอื่นตัวเองเอาแต่ของดีๆงี้หรอ กุขอให้มาไม่ทันนะpfizerที่มึงใฝ่ฝันหน่ะ #ข่าวลือ\n",
      "1392786889153863681 2021-05-13 12:20:45 +0200 <hoarespitall> I'm surely not alone in noticing that when Boris Johnson is making up answers to questions his eyes stray away from the interviewer, and begin searching the heavens for salvation.\n",
      "1392786886448484352 2021-05-13 12:20:45 +0200 <wpnzkv> @moonveins101 ราชินีฯ อีกคนก็ติดตอนนี้สั่งให้ตรวจข้าราชบริพาร 904 เเล้วสั่ง pfizer มาฉีดค่ะ\n",
      "1392786882334019584 2021-05-13 12:20:44 +0200 <Smile904FM> WC Health has called on people not to jump the queue, to get vaccinated against Covid-19. This after reports surfaced on social media, of people getting their Johnson &amp; Johnson jab, which is part of the Sisonke trial, but they are not in the Health Care sector. #Smile904fmNews\n",
      "1392786879708270592 2021-05-13 12:20:43 +0200 <caiolemos28> @SkyTG24 Insomma vaccino ai cittadini\n",
      "1392786878210916358 2021-05-13 12:20:43 +0200 <BobDarrin> Guess who made the moderna vaccine. A black woman from North Carolina.\n",
      "1392786870065631232 2021-05-13 12:20:41 +0200 <najwasshades> @dreanaam amore é una materia che si chiama Igiene, con la quale dovrei imparare a memoria ogni tipo di disinfettante, la loro azione, più insetticidi, rodenticidi, vaccini obbligatori e non, intossicazioni alimentari, i patogeni e non patogeni che li determinano. MI AMMAZZO\n",
      "1392786868211683328 2021-05-13 12:20:40 +0200 <jescoda98> Regaleu/preneu les pastilles anticonceptives com si fossin carmels i ara us preocupeu per la vacuna d’Astrazeneca\n",
      "1392786866492030976 2021-05-13 12:20:40 +0200 <kazim0111> @sputnik_TR Süleyman yapma. Kendini daha fazla rezil etme. Kimse yemez bunu. 😂😂😂😂\n",
      "1392786863480623105 2021-05-13 12:20:39 +0200 <pyrex8h> yoooooo anyone ever see Jesse Lee Peterson vs Umar Johnson 🤦🏾‍♂️😭 you wanna laugh go start ya day off wit a laugh\n",
      "1392786862624944132 2021-05-13 12:20:39 +0200 <Bawyeraa> @sputnik_TR Bakan dalga geçiyor\n",
      "1392786858636050433 2021-05-13 12:20:38 +0200 <Sanghi_Superman> @ANI So basically they are calling Pfizer 🤦🏻‍♂️ Cc : @sdeo76\n",
      "1392786857369513988 2021-05-13 12:20:38 +0200 <RossGrant17> More fear mongering for the sheeple to soak up, Johnson is a born liar who will even lie to himself in the mirror in the morning. This shit show will never end unless we all stand together against this dictatorship. #EnoughIsEnough\n",
      "1392786853330309121 2021-05-13 12:20:37 +0200 <vanguardiamx> Pfizer dice que su vacuna es más eficaz en adolescentes que en jóvenes  https://t.co/3da3OeGGjD\n",
      "1392786849819545602 2021-05-13 12:20:36 +0200 <RwSarcastic> @AbhishBanerj Polio vaccines were oral &amp; dropped in mouth of children. Anybody can do that, yet it took 30 years for the then government to vaccinate. These illiterates will never learn &amp; continue to fool the ppl of this nation..\n",
      "1392786846686535680 2021-05-13 12:20:35 +0200 <vanabeau> L'antisionismo è la maschera moderna dell'antisemitismo!\n",
      "1392786841825386498 2021-05-13 12:20:34 +0200 <Lichtspruch> Nach  #Erstimpfung  mit #AstraZeneca   die zweite Impfstoffdosis  mit #BioNTech  / #Moderna 🧐 ??   https://t.co/MET1mhvGXD\n",
      "1392786839216427012 2021-05-13 12:20:33 +0200 <chrisfullalove> @DHughesy @HughesyEdErin Australians are cooked Hughesy! There’s a big chunk of the population that have just gone 🤪! “It’s only the flu, my immune system is fine” “mRNA will change my DNA…but I won’t have AZ, give me Pfizer”\n",
      "1392786829104009225 2021-05-13 12:20:31 +0200 <CaveJohnsonBot1> Cave Johnson here,  If Life gives you lemons, Don't make lemonade. Make life take the lemons back! Cave Johnson, we're done here.\n",
      "1392786828298788866 2021-05-13 12:20:31 +0200 <trepazia> Nicola Zingaretti: Pfizer no richiamo a 35 giorni! - Firma la petizione!  https://t.co/3aUmg8l0TA via @ChangeItalia\n",
      "1392786827539517440 2021-05-13 12:20:31 +0200 <NicoleK_WTWO> HOOSIERS: Children 12-15 can now get the Pfizer COVID vaccine. 💉  Visit  https://t.co/IEqav0wBiU to register - a parent/guardian must accompany a minor for the vaccination. @wtwonews\n",
      "1392786794672963587 2021-05-13 12:20:23 +0200 <HumphreyPlugg4> @lewis_goodall ‘’Fuck the families.’’ - Boris Johnson, 2011\n",
      "1392786794060595203 2021-05-13 12:20:23 +0200 <LongCovidFight> @GYamey Those in the Venn diagram intersection totally fail to recognise that failure to mask &amp; vaccinate causes lockdowns!\n",
      "1392786794039681027 2021-05-13 12:20:23 +0200 <Stephen19540131> Inquiry starting in a year's time &amp; so is unlikely to provide guidance on the current crisis. Furthermore, Johnson is likely to call a General Election before the findings are known so electors won't know how bad govt  was and Brexit economic mess will be blamed on Covid.\n",
      "1392786793473265664 2021-05-13 12:20:22 +0200 <VikashK93283189> @aiboc_in @PMOIndia @DFS_India @FinMinIndia @MoHFW_INDIA Vaccinate bankers alongwith their family members\n",
      "1392786791594344450 2021-05-13 12:20:22 +0200 <mauro_marenco> Donna di 35 anni muore per emorragia cerebrale 11 giorni dopo aver ricevuto il vaccino Johnson&amp;Johnson – RENOVATIO 21  https://t.co/liG6wFDXxr\n",
      "1392786784489254915 2021-05-13 12:20:20 +0200 <MPS39631037> Noruegueses estocam pílulas de iodo após chegada de submarino nuclear dos EUA:  https://t.co/gWNhWopPqY via @sputnik_brasil\n",
      "1392786784203902982 2021-05-13 12:20:20 +0200 <praewsoul> ผ่านไป4ชม. หลังจาก Sinovac เข็ม2 ยังไม่มี side effect จ้าาา\n",
      "1392786784057237506 2021-05-13 12:20:20 +0200 <lipsteria> emozionata perché lunedì faccio il vaccino!!!!!!!\n",
      "1392786782849314816 2021-05-13 12:20:20 +0200 <AndySisley> @Andrew_Adonis Don't worry, Al Bozo Johnson will just get some more money from his magic money tree, you know the one, the one labour weren't supposed to use but the alt-right can use as much as they like.\n",
      "1392786782647881730 2021-05-13 12:20:20 +0200 <menschmodus> \"...the group who is most likely to purposefully choose to not vaccinate are highly educated. In speaking with them, these are people who have read the primary literature themselves, and they're correctly interpreting it, so it's not a misunderstanding...\"  https://t.co/jqwB8VJnTA\n",
      "1392786780366200835 2021-05-13 12:20:19 +0200 <David01779813> @CNNChile Totalmente de acuerdo, pero para hacerlo, hay que tener listo la Nueva Policía, más moderna y actualizada\n",
      "1392786773374296065 2021-05-13 12:20:18 +0200 <AgendaSalta> Llegó un nuevo vuelo con 500 mil dosis de la vacuna Sputnik V   https://t.co/rQrlrX1oCi\n",
      "1392786771965095938 2021-05-13 12:20:17 +0200 <RishuAnand> जब भारत सरकार ने आज तक सिर्फ तीन वैक्सीन (Covishield, Covaxin, Sputnik V) को इस्तेमाल का लाइसेंस दिया है तो उत्तर प्रदेश सरकार ग्लोबल टेंडर क्यूँ कर रही है? जनता को बहलाने की कोशिश है, या अंतरराष्ट्रीय शाजिस की तैयारी है?  #CovidVaccine #UttarPradesh\n",
      "1392786770794881028 2021-05-13 12:20:17 +0200 <OnlyWhenIWrite> Hello, I’ve just got home from having my first dose of the Pfizer vaccine 💉\n",
      "1392786766654885895 2021-05-13 12:20:16 +0200 <JackHam38216180> @Julian_OBrien @xaviercooks9 @NBL But he ain't no Magic Johnson.\n",
      "1392786766202085382 2021-05-13 12:20:16 +0200 <Humainementbdx> Pfizer dans le corps 💉💉💉 @GuillaumeRozier @ViteMaDose_off  https://t.co/QZGZPbMNgC\n",
      "1392786765946269699 2021-05-13 12:20:16 +0200 <MineAYD77227059> @sputnik_TR Bu şuna döndü oy veren kürt kardeşim vermeyen pkkli\n",
      "1392786765291786242 2021-05-13 12:20:16 +0200 <tantaekook9597> @jimimmi_fn หนู​ก็เหมือนกัน​พี่เฟิร์น​ หัวหน้า​บังคับ​ให้ฉีด แต่หนู​ก็ยืนยัน​เหมือน​เดิมว่าไม่ฉีด ถ้าฉีดรอเอกชน​นำ moderna​ เข้าไทยก่อน ยอมเสียเงิน​ดีกว่า​ เพื่อวัคซีน​ที่ดี\n",
      "1392786764012589058 2021-05-13 12:20:15 +0200 <AleciodLonghi38> @CNNBrasil  Pra qual país a Pfizer entregou 70 milhões de doses\n",
      "1392786763718938632 2021-05-13 12:20:15 +0200 <SylvieAlf> @DaveSharma @DaveSharma  Is it true that the residents in your electorate received Pfizer (regardless of their ages) as Littleproud's electorate did? In Littleproud's electorate  - everyone over 18 was offered PFIZER 4-6 Weeks ago. Seems to be a case of more porkbarrelling doesn't it!!!\n",
      "1392786763312152579 2021-05-13 12:20:15 +0200 <TrevorP96101851> Oh just fuck off. There's a potential lethal danger when I cross the road or drive my car🤨.  Mr Johnson said new variants “pose a potentially lethal danger” to the country.  Boris Johnson says Indian Covid variant of ‘increasing concern’ – follow live  https://t.co/A7uON2rbQ5\n",
      "1392786763089842176 2021-05-13 12:20:15 +0200 <itsnadiafavre> Today is 4 AstraZeneca &amp; my aunty's Aloo paratha 💉  https://t.co/l0lyxFpwla\n",
      "1392786758828531713 2021-05-13 12:20:14 +0200 <kat_jeanne> Precies dezelfde uitkomst als 22 april. Ik hoop dat de @2eKamertweets zich realiseert dat zij dus medeverantwoordelijk zijn voor al die mensen wier leven door #AstraZeneca  onherstelbaar, onnodig en soms dramatisch zijn veranderd\n",
      "1392786757289013251 2021-05-13 12:20:14 +0200 <arunpathakindia> @ICMRDELHI @BharatBiotech @MoHFW_INDIA @AstraZeneca  https://t.co/JKOyNM2Rdr\n",
      "1392786755670220801 2021-05-13 12:20:13 +0200 <diarmuid_ose> Johnson to write to Ballymurphy families to apologise  https://t.co/C9IvjfTtTN via @rte\n",
      "1392786747927498752 2021-05-13 12:20:12 +0200 <heyshutyourface> @suattcakir @sputnik_TR birçok meslek yaptı şuan aktif olarak mafya babalığı yapiyor\n",
      "1392786746786652160 2021-05-13 12:20:11 +0200 <P13DigitalMedia> @CovidBlindWife @EricaliFIGuru If a journalist will run the story, surely it can only be a benefit?  It'll encourage others to come forward with side effects and would also pressure AstraZeneca to take your particular case more seriously?\n",
      "1392786741799628803 2021-05-13 12:20:10 +0200 <lanzarotelago> Resultados preliminares de combinar Pfizer y AstraZeneca en Reino Unido: efectos secundarios más frecuentes, pero todavía leves  https://t.co/wsmvkHNokR\n",
      "1392786739513765889 2021-05-13 12:20:10 +0200 <papatya_aaaa> @sputnik_TR Anladığım kadarıyla, SS ağar'a benimle misin diye sordu, cevabını aldı\n",
      "1392786738607796224 2021-05-13 12:20:09 +0200 <TylerBOTv1> My favourite colour is johnson's boy\n",
      "1392786733138337793 2021-05-13 12:20:08 +0200 <alixy85> @sputnik_TR :))\n",
      "1392786711902572546 2021-05-13 12:20:03 +0200 <Informe21> 💉 Noruega retira la vacuna AstraZeneca y suspende la de Johnson &amp; Johnson  https://t.co/LxCyB4gDXY #coronavirus  https://t.co/ylphmZ0VUG\n",
      "1392786711701168130 2021-05-13 12:20:03 +0200 <nich_niar> แน่จริงฉีด sinovac สิ อสอห มห!!\n",
      "1392786709436325888 2021-05-13 12:20:02 +0200 <sirLundoner> @CTVNews Fire her, she’s incompetent. Wrong about the pandemic, she said Canada was at “low risk”. Wrong about masks working. Wrong about border closures. And wrong about NACI’s recommendations for AstraZeneca which we are now following.\n",
      "1392786708610043904 2021-05-13 12:20:02 +0200 <armando_savini> @IlariaBifarini Grazie ai supervaccini sperimentali anticovid somministrati ai nuovi superoeroi mouse-men e mouse-women geneticamente modificati!\n",
      "1392786708022824963 2021-05-13 12:20:02 +0200 <ExBulletinUk> Boris Johnson apologizes for murder of Belfast civilians by British armies in 1971 – POLITICO  https://t.co/P05iPLYQAV\n",
      "1392786705929936907 2021-05-13 12:20:02 +0200 <Neukoelln_News> Stand: 13.04.2021 AstraZeneca und dann BioNTech: Wie ist die Studienlage? | Gelbe Liste  https://t.co/3J0NGRAE9a\n",
      "1392786704642285569 2021-05-13 12:20:01 +0200 <la_patilla> OPS dijo que es probable que Covax asigne vacunas de Johnson &amp; Johnson a Venezuela  https://t.co/G2jd8QrGdk      *\n",
      "1392786700611596291 2021-05-13 12:20:00 +0200 <jezshut> Gutter trash Jamie Dornan stans are never interested in their shit bald fave that they stay stalking Dakota Johnson and her stans.  What’s embarrassing is your fugly mug, go kick rocks, Karen.  https://t.co/89JZSRxEt5\n",
      "1392786698447196161 2021-05-13 12:20:00 +0200 <redaccionmedica> #IndustriaFarmacéutica | La eficacia de la #vacunaCovid de Janssen en el mundo real es del 7️⃣6️⃣,7️⃣%, una cifra muy semejante a la que reflejaron los ensayos clínicos   Por @admateos ✍️   https://t.co/UyaCAbjis4\n",
      "1392786698401112065 2021-05-13 12:20:00 +0200 <g9ediciones> Carole Fillière es doctora en Filología Española por la Universidad de París III Sorbonne Nouvelle.   En ‘Teorías de la novela moderna en España’, escribe una páginas bajo el título ‘Clarín y Luis Goytisolo: teoría de la novela y realismo irónico’.  Link:  https://t.co/L6m620zlIM  https://t.co/FBJ7wtwPTo\n",
      "1392786698317176840 2021-05-13 12:20:00 +0200 <australiandr> But there is no news yet on whether GPs will be administering the Moderna vaccine, known as mRNA-1273, when doses arrive in Australia   https://t.co/yD47YGNnGD\n",
      "1392786698279559170 2021-05-13 12:20:00 +0200 <FOXBaltimore> Baltimore County Accepting Teens For Pfizer COVID-19 Vaccine Tomorrow.   https://t.co/W03pW3NYO6\n",
      "1392786698275196929 2021-05-13 12:20:00 +0200 <SubrayadoM> 💉🧒🏻La Cofepris podría autorizar a #Pfizer aplicar vacuna a menores en México  El canciller Marcelo Ebrard, anunció que Pfizer solicitará autorización para la aplicación de su vacuna en menores de entre 12 y 15 años.   https://t.co/bpEpTVCu0l\n",
      "1392786692554252289 2021-05-13 12:19:58 +0200 <dagowop42> @chadp71 DB Depth chart FS Johnson SS Harrison, Redwine Joker Delpit CB Ward, Green CB Newsome, Williams NB Hill, Stewart  What am I missing here? Greedy is only potentially competent backup. I see a whole lot of holes...\n",
      "1392786689634996226 2021-05-13 12:19:58 +0200 <delilikbuvalla> @hamcokeleek @sputnik_TR Malzemeden çalarken suç üstü yakalanmış... Savcılar göreve... 😂\n",
      "1392786683968593930 2021-05-13 12:19:56 +0200 <Cortezcoast> @sputnik_TR İnce bir mesaj vermiş. Birilerin arkasına saklanıp atar yapıyor\n",
      "1392786677240934402 2021-05-13 12:19:55 +0200 <Filizi4> @sputnik_TR Peker’in Akp’lilerle resmi var saydıklarınla değil çamur at izi kalsın\n",
      "1392786676368527363 2021-05-13 12:19:55 +0200 <LadyPowys> Why indeed?! There is NOTHING GOOD in this manic drive to vaccinate the whole population- including children-with unlicensed, experimental ‘vaccines’ for a virus that 99%++ survive ....Seriously my fellow Brits - can you not start asking some bigger questions now please?!\n",
      "1392786675819024385 2021-05-13 12:19:54 +0200 <adampayne26> Labour's @karinsmyth tells Brandon Lewis it is a \"disgrace\" that Johnson himself is not apologising to the Ballymurphy families in Parliament\n",
      "1392786674564861954 2021-05-13 12:19:54 +0200 <Leandro92857080> @alexandregarcia @BolsonaroSP @YouTube A CPI está confirmando narrativas...o que foi aquilo ontem? O cara totalmente desconexo ..um arrogante se passando por humilde..Uma situação de emergência sanitária, gente morrendo e o cara da comunicação assume um negócio com a Pfizer?? Que Deus ajude o Brasil\n",
      "1392786672861986821 2021-05-13 12:19:54 +0200 <zolpidem_ten> @lili_johnson والا همچین آش دهنسوزی هم نیست شوهر -___-\n",
      "1392786670471241728 2021-05-13 12:19:53 +0200 <amsterdam_bill> Ik zal straks weer update sturen: doden per land, per miljoen etc. Aan de top: Landen waar bewust genegeerd werd en belachelijk gemaakt: -VK (Johnson) -VS (Trump) -Brazilie (Bolsonaro) -India (Modi, met stip)  De echte fanaten beweren natuurlijk cijfers gelogen zijn.\n",
      "1392786651257229312 2021-05-13 12:19:49 +0200 <art_lew> 4 millones con un componente de la Sputnik, el 2do componente sin novedad GOBIERNO DE CIENTÍFICOS ladrones inútiles criminales\n",
      "1392786648207921154 2021-05-13 12:19:48 +0200 <SCoimb> @eduardopaes Porque não aceleram a vacinação aplicando 24 horas por dia? Porque não usam todas as doses disponíveis de AstraZeneca agora produzida no Brasil na @fiocruz ? Porque não criam sistema informatizado de logística para não deixar faltar vacinas em alguns postos? E a Pfizer???\n"
     ]
    }
   ],
   "source": [
    "twint.run.Search(c)"
   ]
  },
  {
   "cell_type": "code",
   "execution_count": 15,
   "metadata": {},
   "outputs": [],
   "source": []
  },
  {
   "cell_type": "code",
   "execution_count": null,
   "metadata": {},
   "outputs": [],
   "source": []
  }
 ],
 "metadata": {
  "kernelspec": {
   "display_name": "Python 3",
   "language": "python",
   "name": "python3"
  },
  "language_info": {
   "codemirror_mode": {
    "name": "ipython",
    "version": 3
   },
   "file_extension": ".py",
   "mimetype": "text/x-python",
   "name": "python",
   "nbconvert_exporter": "python",
   "pygments_lexer": "ipython3",
   "version": "3.8.5"
  }
 },
 "nbformat": 4,
 "nbformat_minor": 4
}
