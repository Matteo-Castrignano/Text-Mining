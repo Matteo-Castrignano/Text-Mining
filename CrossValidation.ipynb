{
 "cells": [
  {
   "cell_type": "code",
   "execution_count": null,
   "metadata": {
    "scrolled": false
   },
   "outputs": [],
   "source": [
    "import csv\n",
    "import matplotlib.pyplot as plt\n",
    "import nltk\n",
    "import pandas\n",
    "from sklearn.metrics import classification_report, confusion_matrix\n",
    "from sklearn.model_selection import cross_val_score, cross_val_predict\n",
    "import numpy as np\n",
    "from nltk.corpus import stopwords\n",
    "from nltk.stem import SnowballStemmer\n",
    "from sklearn.ensemble import RandomForestClassifier, AdaBoostClassifier\n",
    "from sklearn.feature_extraction.text import CountVectorizer, TfidfTransformer\n",
    "from sklearn.metrics import plot_confusion_matrix, f1_score\n",
    "from sklearn.model_selection import train_test_split\n",
    "from sklearn.naive_bayes import MultinomialNB\n",
    "from sklearn.neighbors import KNeighborsClassifier\n",
    "from sklearn import svm\n",
    "from sklearn import tree\n",
    "from sklearn import metrics\n",
    "from sklearn.pipeline import Pipeline\n",
    "from sklearn.feature_extraction.text import TfidfVectorizer\n",
    "from nltk.corpus import stopwords\n",
    "from sklearn.naive_bayes import MultinomialNB\n",
    "from sklearn.metrics import make_scorer, accuracy_score, precision_score, recall_score, f1_score\n",
    "from sklearn.model_selection import cross_validate\n",
    "# import nltk\n",
    "# nltk.download('stopwords')\n",
    "\n",
    "pandas.set_option('display.max_rows', 1000)\n",
    "\n",
    "# loading the dataset\n",
    "dataset = pandas.read_csv(\"newDataset.csv\",sep=',',usecols=['tweet','label'])\n",
    "dataset.tweet=dataset.tweet.str.lower()\n",
    "#print(type(dataset))\n",
    "print(f\"Number of tweets: {len(dataset)}\")\n",
    "display(dataset)"
   ]
  },
  {
   "cell_type": "code",
   "execution_count": null,
   "metadata": {},
   "outputs": [],
   "source": [
    "italian_stemmer = SnowballStemmer('italian')\n",
    "class StemmedCountVectorizer(CountVectorizer):\n",
    "    def build_analyzer(self):\n",
    "        analyzer = super(StemmedCountVectorizer, self).build_analyzer()\n",
    "        return lambda doc: ([italian_stemmer.stem(w) for w in analyzer(doc)])"
   ]
  },
  {
   "cell_type": "code",
   "execution_count": null,
   "metadata": {},
   "outputs": [],
   "source": [
    "scoring = {'accuracy' : make_scorer(accuracy_score), \n",
    "           'precision' : make_scorer(precision_score, average = 'weighted', zero_division = 0),\n",
    "           'recall' : make_scorer(recall_score, average = 'macro'), \n",
    "           'f1_score' : make_scorer(f1_score, average = 'macro')\n",
    "          }\n",
    "\n",
    "def print_metrics(scores):\n",
    "    print(f'accuracy on test set: {scores[\"test_accuracy\"].mean():.3} +/- {scores[\"test_accuracy\"].std()*2:.3}')\n",
    "    print(f'precision on test set: {scores[\"test_precision\"].mean():.3} +/- {scores[\"test_precision\"].std()*2:.3}')\n",
    "    print(f'recall on test set: {scores[\"test_recall\"].mean():.3} +/- {scores[\"test_recall\"].std()*2:.3}')\n",
    "    print(f'f1-score on test set: {scores[\"test_f1_score\"].mean():.3} +/- {scores[\"test_f1_score\"].std()*2:.3}')"
   ]
  },
  {
   "cell_type": "code",
   "execution_count": null,
   "metadata": {},
   "outputs": [],
   "source": [
    "max_ngram = 2\n",
    "\n",
    "folds = 10\n",
    "print('NAIVE BAYES CLASSIFIER')\n",
    "for i in range(max_ngram):\n",
    "    for j in range(max_ngram):\n",
    "        if j>= i :\n",
    "            text_clf = Pipeline([\n",
    "                ('vect', StemmedCountVectorizer(min_df=3, analyzer=\"word\", stop_words = set(stopwords.words('italian')),ngram_range = (i+1,j+1))),\n",
    "                ('tfidf', TfidfTransformer(smooth_idf=True,use_idf=True)),\n",
    "                ('clf', MultinomialNB()),\n",
    "            ])\n",
    "            scores = cross_validate(text_clf, dataset.tweet, dataset.label, cv=folds, scoring = scoring)\n",
    "            print(f\"------- ngram = {(i+1,j+1)} -------\")\n",
    "            print_metrics(scores)"
   ]
  },
  {
   "cell_type": "code",
   "execution_count": null,
   "metadata": {},
   "outputs": [],
   "source": [
    "print('SVM CLASSIFIER')\n",
    "for i in range(max_ngram):\n",
    "    for j in range(max_ngram):\n",
    "        if j>= i :\n",
    "            text_clf = Pipeline([\n",
    "                ('vect', StemmedCountVectorizer(min_df=1, analyzer=\"word\", stop_words = set(stopwords.words('italian')),ngram_range = (i+1,j+1))),\n",
    "                ('tfidf', TfidfTransformer(smooth_idf=True,use_idf=True)),\n",
    "                ('clf', svm.LinearSVC()),\n",
    "            ])\n",
    "            scores = cross_validate(text_clf, dataset.tweet, dataset.label, cv=folds, scoring=scoring)\n",
    "            print(f\"------- ngram = {(i+1,j+1)} -------\")\n",
    "            print_metrics(scores)"
   ]
  },
  {
   "cell_type": "code",
   "execution_count": 83,
   "metadata": {},
   "outputs": [
    {
     "name": "stdout",
     "output_type": "stream",
     "text": [
      "KNN CLASSIFIER\n",
      "------- ngram = (1, 1) -------\n",
      "accuracy on test set: 0.508 +/- 0.102\n",
      "precision on test set: 0.51 +/- 0.105\n",
      "recall on test set: 0.51 +/- 0.0994\n",
      "f1-score on test set: 0.506 +/- 0.102\n",
      "------- ngram = (1, 2) -------\n",
      "accuracy on test set: 0.503 +/- 0.0712\n",
      "precision on test set: 0.511 +/- 0.0674\n",
      "recall on test set: 0.506 +/- 0.073\n",
      "f1-score on test set: 0.501 +/- 0.0693\n",
      "------- ngram = (2, 2) -------\n",
      "accuracy on test set: 0.457 +/- 0.104\n",
      "precision on test set: 0.459 +/- 0.102\n",
      "recall on test set: 0.455 +/- 0.102\n",
      "f1-score on test set: 0.452 +/- 0.102\n"
     ]
    }
   ],
   "source": [
    "k_neighbor = 5\n",
    "print('KNN CLASSIFIER')\n",
    "for i in range(max_ngram):\n",
    "    for j in range(max_ngram):\n",
    "        if j>= i :\n",
    "            text_clf = Pipeline([\n",
    "                ('vect', StemmedCountVectorizer(min_df=1, analyzer=\"word\", stop_words = set(stopwords.words('italian')),ngram_range = (i+1,j+1))),\n",
    "                ('tfidf', TfidfTransformer(smooth_idf=True,use_idf=True)),\n",
    "                ('clf', KNeighborsClassifier(k_neighbor)),\n",
    "            ])\n",
    "            scores = cross_validate(text_clf, dataset.tweet, dataset.label, cv=folds, scoring=scoring)\n",
    "            print(f\"------- ngram = {(i+1,j+1)} -------\")\n",
    "            print_metrics(scores)"
   ]
  },
  {
   "cell_type": "code",
   "execution_count": 84,
   "metadata": {},
   "outputs": [
    {
     "name": "stdout",
     "output_type": "stream",
     "text": [
      "ADABOOST CLASSIFIER\n",
      "------- ngram = (1, 1) -------\n",
      "accuracy on test set: 0.438 +/- 0.0947\n",
      "precision on test set: 0.445 +/- 0.0998\n",
      "recall on test set: 0.424 +/- 0.0926\n",
      "f1-score on test set: 0.415 +/- 0.0913\n",
      "------- ngram = (1, 2) -------\n",
      "accuracy on test set: 0.413 +/- 0.114\n",
      "precision on test set: 0.418 +/- 0.126\n",
      "recall on test set: 0.404 +/- 0.106\n",
      "f1-score on test set: 0.395 +/- 0.112\n",
      "------- ngram = (2, 2) -------\n",
      "accuracy on test set: 0.421 +/- 0.128\n",
      "precision on test set: 0.442 +/- 0.221\n",
      "recall on test set: 0.402 +/- 0.119\n",
      "f1-score on test set: 0.357 +/- 0.141\n"
     ]
    }
   ],
   "source": [
    "print('ADABOOST CLASSIFIER')\n",
    "for i in range(max_ngram):\n",
    "    for j in range(max_ngram):\n",
    "        if j>= i :\n",
    "            text_clf = Pipeline([\n",
    "                ('vect', StemmedCountVectorizer(min_df=1, analyzer=\"word\", stop_words = set(stopwords.words('italian')),ngram_range = (i+1,j+1))),\n",
    "                ('tfidf', TfidfTransformer(smooth_idf=True,use_idf=True)),\n",
    "                ('clf', AdaBoostClassifier()),\n",
    "            ])\n",
    "            scores = cross_validate(text_clf, dataset.tweet, dataset.label, cv=folds, scoring=scoring)\n",
    "            print(f\"------- ngram = {(i+1,j+1)} -------\")\n",
    "            print_metrics(scores)"
   ]
  },
  {
   "cell_type": "code",
   "execution_count": 85,
   "metadata": {},
   "outputs": [
    {
     "name": "stdout",
     "output_type": "stream",
     "text": [
      "RANDOM FOREST CLASSIFIER\n",
      "------- ngram = (1, 1) -------\n",
      "accuracy on test set: 0.501 +/- 0.101\n",
      "precision on test set: 0.51 +/- 0.108\n",
      "recall on test set: 0.485 +/- 0.11\n",
      "f1-score on test set: 0.482 +/- 0.117\n",
      "------- ngram = (1, 2) -------\n",
      "accuracy on test set: 0.487 +/- 0.0893\n",
      "precision on test set: 0.515 +/- 0.0943\n",
      "recall on test set: 0.467 +/- 0.0888\n",
      "f1-score on test set: 0.454 +/- 0.0962\n",
      "------- ngram = (2, 2) -------\n",
      "accuracy on test set: 0.438 +/- 0.0869\n",
      "precision on test set: 0.515 +/- 0.134\n",
      "recall on test set: 0.408 +/- 0.079\n",
      "f1-score on test set: 0.376 +/- 0.0963\n"
     ]
    }
   ],
   "source": [
    "print('RANDOM FOREST CLASSIFIER')\n",
    "for i in range(max_ngram):\n",
    "    for j in range(max_ngram):\n",
    "        if j>= i :\n",
    "            text_clf = Pipeline([\n",
    "                ('vect', StemmedCountVectorizer(min_df=1, analyzer=\"word\", stop_words = set(stopwords.words('italian')),ngram_range = (i+1,j+1))),\n",
    "                ('tfidf', TfidfTransformer(smooth_idf=True,use_idf=True)),\n",
    "                ('clf', RandomForestClassifier()),\n",
    "            ])\n",
    "            scores = cross_validate(text_clf, dataset.tweet, dataset.label, cv=folds, scoring=scoring)\n",
    "            print(f\"------- ngram = {(i+1,j+1)} -------\")\n",
    "            print_metrics(scores)"
   ]
  },
  {
   "cell_type": "code",
   "execution_count": null,
   "metadata": {},
   "outputs": [],
   "source": [
    "# code for confusion matrix\n",
    "from sklearn.model_selection import cross_val_predict\n",
    "text_clf = Pipeline([\n",
    "    ('vect', StemmedCountVectorizer(min_df=2, analyzer=\"word\", stop_words = set(stopwords.words('italian')),ngram_range = (1,2))),\n",
    "    ('tfidf', TfidfTransformer(smooth_idf=True,use_idf=True)),\n",
    "    ('clf', MultinomialNB()),\n",
    "])\n",
    "y_pred = cross_val_predict(text_clf, dataset.tweet, dataset.label, cv=folds)\n",
    "#conf_mat = confusion_matrix(dataset.label, y_pred, normalize=\"true\")\n",
    "conf_mat = confusion_matrix(dataset.label, y_pred)\n",
    "print(conf_mat)"
   ]
  },
  {
   "cell_type": "code",
   "execution_count": 79,
   "metadata": {},
   "outputs": [
    {
     "name": "stdout",
     "output_type": "stream",
     "text": [
      "NAIVE BAYES CLASSIFIER - CUSTOM STOP WORDS\n",
      "------- ngram = (1, 1) -------\n",
      "accuracy on test set: 0.521 +/- 0.112\n",
      "precision on test set: 0.56 +/- 0.107\n",
      "recall on test set: 0.497 +/- 0.116\n",
      "f1-score on test set: 0.493 +/- 0.126\n",
      "------- ngram = (1, 2) -------\n",
      "accuracy on test set: 0.527 +/- 0.122\n",
      "precision on test set: 0.575 +/- 0.125\n",
      "recall on test set: 0.501 +/- 0.124\n",
      "f1-score on test set: 0.494 +/- 0.139\n",
      "------- ngram = (2, 2) -------\n",
      "accuracy on test set: 0.47 +/- 0.0927\n",
      "precision on test set: 0.479 +/- 0.112\n",
      "recall on test set: 0.449 +/- 0.09\n",
      "f1-score on test set: 0.443 +/- 0.0947\n"
     ]
    }
   ],
   "source": [
    "# code for custom stop words\n",
    "stop_words = [x.strip() for x in open('stopWords.txt','r').read().split('\\n')]\n",
    "\n",
    "folds = 10\n",
    "print('NAIVE BAYES CLASSIFIER - CUSTOM STOP WORDS')\n",
    "for i in range(max_ngram):\n",
    "    for j in range(max_ngram):\n",
    "        if j>= i :\n",
    "            text_clf = Pipeline([\n",
    "                ('vect', StemmedCountVectorizer(min_df=2, analyzer=\"word\", strip_accents = \"unicode\", stop_words = stop_words, ngram_range = (i+1,j+1))),\n",
    "                ('tfidf', TfidfTransformer(smooth_idf=True,use_idf=True)),\n",
    "                ('clf', MultinomialNB()),\n",
    "            ])\n",
    "            scores = cross_validate(text_clf, dataset.tweet, dataset.label, cv=folds, scoring = scoring)\n",
    "            print(f\"------- ngram = {(i+1,j+1)} -------\")\n",
    "            print_metrics(scores)"
   ]
  },
  {
   "cell_type": "code",
   "execution_count": null,
   "metadata": {},
   "outputs": [],
   "source": []
  }
 ],
 "metadata": {
  "kernelspec": {
   "display_name": "Python 3",
   "language": "python",
   "name": "python3"
  },
  "language_info": {
   "codemirror_mode": {
    "name": "ipython",
    "version": 3
   },
   "file_extension": ".py",
   "mimetype": "text/x-python",
   "name": "python",
   "nbconvert_exporter": "python",
   "pygments_lexer": "ipython3",
   "version": "3.8.5"
  }
 },
 "nbformat": 4,
 "nbformat_minor": 4
}
