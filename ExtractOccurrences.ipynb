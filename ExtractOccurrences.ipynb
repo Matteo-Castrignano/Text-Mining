{
 "cells": [
  {
   "cell_type": "code",
   "execution_count": 10,
   "metadata": {
    "scrolled": true
   },
   "outputs": [
    {
     "name": "stdout",
     "output_type": "stream",
     "text": [
      "dataset len: 10105\n",
      "class 0 len: 20\n",
      "class 1 len: 17\n",
      "class 2 len: 20\n",
      "\n",
      "num classificati: 57\n"
     ]
    }
   ],
   "source": [
    "import csv\n",
    "import pandas as pd\n",
    "# classe 0 negativo\n",
    "# classe 1 positivo\n",
    "# classe 2 neutro\n",
    "\n",
    "dataset = pd.read_csv(\"./ConceptDriftAprile.csv\", encoding=\"ISO-8859-1\")\n",
    "print(\"dataset len: \" + str(len(dataset)))\n",
    "print(\"class 0 len: \" + str(len(dataset[dataset.label == 0])))\n",
    "print(\"class 1 len: \" + str(len(dataset[dataset.label == 1])))\n",
    "print(\"class 2 len: \" + str(len(dataset[dataset.label == 2])) + '\\n')\n",
    "labeled = len(dataset[dataset.label == 2]) + len(dataset[dataset.label == 1]) + len(dataset[dataset.label == 0])\n",
    "print(\"num classificati: \" + str(labeled))"
   ]
  },
  {
   "cell_type": "code",
   "execution_count": 6,
   "metadata": {},
   "outputs": [],
   "source": [
    "pd.set_option('display.max_rows', 100000)"
   ]
  },
  {
   "cell_type": "code",
   "execution_count": 15,
   "metadata": {},
   "outputs": [
    {
     "name": "stdout",
     "output_type": "stream",
     "text": [
      "                       id            timestamp         username  \\\n",
      "0     1355658058777694211  2021-01-31 00:24:02  daniele39260567   \n",
      "2     1355653463796015106  2021-01-31 00:05:47     quarto_gatto   \n",
      "3     1355651047738515462  2021-01-30 23:56:11     diabolicus23   \n",
      "4     1355650532501839872  2021-01-30 23:54:08  claudio35205135   \n",
      "5     1355649857617358849  2021-01-30 23:51:27     luca_cangemi   \n",
      "...                   ...                  ...              ...   \n",
      "6730  1344910805960171522  2021-01-01 08:38:18  stefanocazzola1   \n",
      "6731  1344901676294172672  2021-01-01 08:02:01    marinadagnino   \n",
      "6733  1344830791482814464  2021-01-01 03:20:21       giulyleban   \n",
      "6734  1344821727637987328  2021-01-01 02:44:20      starblurose   \n",
      "6735  1344815596639285249  2021-01-01 02:19:58  carlo_centemeri   \n",
      "\n",
      "                                                  tweet  likes_count  label  \n",
      "0     vaccini il successo della brexit premettera ag...            0    2.0  \n",
      "2     vaccini mentre l eu cerca tra l altro senza su...            0    2.0  \n",
      "3     si andrebbe presumibilmente ben oltre l anno a...           13    1.0  \n",
      "4     oggi 30 gennaio ho ricevuto la seconda dose de...            1    1.0  \n",
      "5     vaccini una discussione da riaprire la specula...            3    2.0  \n",
      "...                                                 ...          ...    ...  \n",
      "6730   il problema e un altro il fatto che tu vaccin...            0    0.0  \n",
      "6731   se una persona non lo vuole fare e solo perch...            0    2.0  \n",
      "6733   che senso avrebbe questa distinzione per il v...            0    2.0  \n",
      "6734   lei si vaccini e segua scrupolosamente le reg...            0    1.0  \n",
      "6735  anticorpi monoclonali per accompagnare il vacc...            0    2.0  \n",
      "\n",
      "[906 rows x 6 columns]\n"
     ]
    }
   ],
   "source": [
    "dataset=dataset.dropna()\n",
    "print (dataset)"
   ]
  },
  {
   "cell_type": "code",
   "execution_count": 16,
   "metadata": {},
   "outputs": [],
   "source": [
    "dataset.label=dataset.label.astype(int)"
   ]
  },
  {
   "cell_type": "code",
   "execution_count": 17,
   "metadata": {},
   "outputs": [],
   "source": [
    "dataset.to_csv('training_set.csv',index=False)"
   ]
  },
  {
   "cell_type": "code",
   "execution_count": null,
   "metadata": {},
   "outputs": [],
   "source": []
  }
 ],
 "metadata": {
  "kernelspec": {
   "display_name": "Python 3",
   "language": "python",
   "name": "python3"
  },
  "language_info": {
   "codemirror_mode": {
    "name": "ipython",
    "version": 3
   },
   "file_extension": ".py",
   "mimetype": "text/x-python",
   "name": "python",
   "nbconvert_exporter": "python",
   "pygments_lexer": "ipython3",
   "version": "3.8.5"
  }
 },
 "nbformat": 4,
 "nbformat_minor": 4
}
