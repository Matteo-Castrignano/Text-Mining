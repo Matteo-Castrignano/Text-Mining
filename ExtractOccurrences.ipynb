{
 "cells": [
  {
   "cell_type": "code",
   "execution_count": 1,
   "metadata": {},
   "outputs": [
    {
     "name": "stdout",
     "output_type": "stream",
     "text": [
      "dataset len: 6736\n",
      "class 0 len: 21\n",
      "class 1 len: 29\n",
      "class 2 len: 70\n",
      "\n",
      "num classificati: 120\n"
     ]
    }
   ],
   "source": [
    "import csv\n",
    "import pandas as pd\n",
    "# classe 0 negativo\n",
    "# classe 1 positivo\n",
    "# classe 2 neutro\n",
    "\n",
    "dataset = pd.read_csv(\"./preprocessDataset.csv\", encoding=\"ISO-8859-1\")\n",
    "print(\"dataset len: \" + str(len(dataset)))\n",
    "print(\"class 0 len: \" + str(len(dataset[dataset.label == 0])))\n",
    "print(\"class 1 len: \" + str(len(dataset[dataset.label == 1])))\n",
    "print(\"class 2 len: \" + str(len(dataset[dataset.label == 2])) + '\\n')\n",
    "labeled = len(dataset[dataset.label == 2]) + len(dataset[dataset.label == 1]) + len(dataset[dataset.label == 0])\n",
    "print(\"num classificati: \" + str(labeled))"
   ]
  },
  {
   "cell_type": "code",
   "execution_count": 15,
   "metadata": {},
   "outputs": [],
   "source": [
    "pd.set_option('display.max_rows', 100000)"
   ]
  },
  {
   "cell_type": "code",
   "execution_count": 16,
   "metadata": {},
   "outputs": [
    {
     "name": "stdout",
     "output_type": "stream",
     "text": [
      "                     id            timestamp         username  \\\n",
      "0   1355658058777694211  2021-01-31 00:24:02  daniele39260567   \n",
      "2   1355653463796015106  2021-01-31 00:05:47     quarto_gatto   \n",
      "3   1355651047738515462  2021-01-30 23:56:11     diabolicus23   \n",
      "4   1355650532501839872  2021-01-30 23:54:08  claudio35205135   \n",
      "5   1355649857617358849  2021-01-30 23:51:27     luca_cangemi   \n",
      "6   1355648642749755395  2021-01-30 23:46:37     diabolicus23   \n",
      "7   1355648637649477632  2021-01-30 23:46:36     diabolicus23   \n",
      "8   1355646930437738497  2021-01-30 23:39:49    marco_heffler   \n",
      "9   1355637712569724931  2021-01-30 23:03:11     accedialsito   \n",
      "10  1355631622020857856  2021-01-30 22:38:59         rus_tego   \n",
      "11  1355631383155191809  2021-01-30 22:38:02    giovannonileo   \n",
      "12  1355630986499923970  2021-01-30 22:36:28  luciademartin15   \n",
      "13  1355628406671634432  2021-01-30 22:26:13    giacomobenini   \n",
      "14  1355627817418043394  2021-01-30 22:23:52   monica_vanpelt   \n",
      "15  1355627011411243010  2021-01-30 22:20:40       guisatania   \n",
      "16  1355620528195854340  2021-01-30 21:54:54       info_alter   \n",
      "17  1355618639567843328  2021-01-30 21:47:24          fedefie   \n",
      "18  1355601865820557317  2021-01-30 20:40:45           fo1984   \n",
      "19  1355599474798845958  2021-01-30 20:31:15  antonio40288897   \n",
      "20  1355594036581642252  2021-01-30 20:09:38      nunziooliva   \n",
      "21  1355591911344660483  2021-01-30 20:01:12        uomorango   \n",
      "22  1355590485805588485  2021-01-30 19:55:32  italianoeromano   \n",
      "23  1355586332425383936  2021-01-30 19:39:01    saraferrara19   \n",
      "24  1355582548349513732  2021-01-30 19:23:59      alessmaffei   \n",
      "25  1355581577531691009  2021-01-30 19:20:08         cland_it   \n",
      "26  1355581038534270976  2021-01-30 19:17:59  leonardimatilde   \n",
      "27  1355579231279968257  2021-01-30 19:10:48        e_tonelli   \n",
      "28  1355579119065509895  2021-01-30 19:10:22           qsanit   \n",
      "29  1355577944207454213  2021-01-30 19:05:41  tutankhatonedit   \n",
      "30  1355576724008955906  2021-01-30 19:00:51   paride27644015   \n",
      "31  1355571869873823746  2021-01-30 18:41:33          vola_va   \n",
      "32  1355568783239368708  2021-01-30 18:29:17        mtrigilia   \n",
      "33  1355566668303495169  2021-01-30 18:20:53     marcocappato   \n",
      "34  1355565148631670788  2021-01-30 18:14:51           cpaler   \n",
      "35  1355563979125501953  2021-01-30 18:10:12         andshehu   \n",
      "36  1355563381529444357  2021-01-30 18:07:49  david4682080042   \n",
      "37  1355560255405641728  2021-01-30 17:55:24  salvatorescuto2   \n",
      "38  1355559304317829123  2021-01-30 17:51:37      marcotamboo   \n",
      "39  1355556487477817347  2021-01-30 17:40:26         sardikus   \n",
      "41  1355549200667320321  2021-01-30 17:11:28   cassandrasperi   \n",
      "42  1355549069062660097  2021-01-30 17:10:57    crabb19563047   \n",
      "44  1355547803976523778  2021-01-30 17:05:55     cinquantenni   \n",
      "\n",
      "                                                tweet  likes_count  label  \n",
      "0   vaccini il successo della brexit premettera ag...            0    2.0  \n",
      "2   vaccini mentre l eu cerca tra l altro senza su...            0    2.0  \n",
      "3   si andrebbe presumibilmente ben oltre l anno a...           13    1.0  \n",
      "4   oggi 30 gennaio ho ricevuto la seconda dose de...            1    1.0  \n",
      "5   vaccini una discussione da riaprire la specula...            3    2.0  \n",
      "6   in realta soprattutto nel caso di confronto co...           10    2.0  \n",
      "7   quale sarebbe il vantaggio del nuovo vaccino t...           19    2.0  \n",
      "8    sono infermiera da 40 anni e sai quanti ne ho...            3    0.0  \n",
      "9   vaccino vaccini vaccinocovid mammamia bambini ...            1    0.0  \n",
      "10   1 eu ha firmato accordi con almeno 6 potenzia...            0    2.0  \n",
      "11   dipende cosa succedera se avremo una variante...            2    1.0  \n",
      "12   da mesi faccio questa domanda ma nessuno dico...            2    2.0  \n",
      "13   hanno vaccinato persone che non erano in list...            1    1.0  \n",
      "14   il piano di vaccinazione non esiste hanno sol...            2    0.0  \n",
      "15   alla meta delle persone oggetto di ricerca ve...            7    2.0  \n",
      "16  boom di focolai tra gli anziani dopo il vaccin...            0    0.0  \n",
      "17   johnson amp johnson stima che potrebbero esse...            0    2.0  \n",
      "18  novartis come sanofi produrra il vaccino pfize...          178    1.0  \n",
      "19  vaccino covid alta probabilita che diventi ine...            0    2.0  \n",
      "20   e tutti i milioni di vaccini gia comprati noi...            0    2.0  \n",
      "21  prima del covid conte premier molti con le pez...            5    2.0  \n",
      "22  era questo il piano di bill gates o ricordo ma...           19    0.0  \n",
      "23  in campania chi ha piu di 80 anni puo prenotar...            0    1.0  \n",
      "24  non capisco io so di persone over 55 che hanno...            1    2.0  \n",
      "25   prof secondo lei non avrebbe senso investire ...            2    1.0  \n",
      "26  aifa autorizza vaccino astrazeneca dai 18aa co...            0    2.0  \n",
      "27   non dimentichiano che questo vaccino potrebbe...            0    1.0  \n",
      "28   autorizza il vaccino astrazeneca ma ne raccom...            3    2.0  \n",
      "29   piu o meno lo stesso tempo che ha bisogno il ...            0    2.0  \n",
      "30   o che dice il prof galli mentre ci sono diver...            0    0.0  \n",
      "31  la cts suggerisce un utilizzo preferenziale de...            7    2.0  \n",
      "32   tutti i vaccini sono una mezza sola a livello...            0    2.0  \n",
      "33   che in italia si tolleri il conflitto di inte...            1    2.0  \n",
      "34   invece che inseguire l approvazione di reithe...            5    1.0  \n",
      "35  3 una ue lungimirante avrebbe potuto investire...            5    2.0  \n",
      "36  covid vaccini pfizer e moderna efficacia vacci...            0    1.0  \n",
      "37   tanto questa bolla dei vaccini esplodera a br...            2    0.0  \n",
      "38   siamo costretti a puntare tutto sul vaccino e...            1    2.0  \n",
      "39  son perplesso sulle limitazioni dell aifa su v...            2    1.0  \n",
      "41   stai confondendo i dati di fase iii con quell...            2    1.0  \n",
      "42   la diversa efficacia dei vaccini approvati re...            2    2.0  \n",
      "44   vaccinazioni sembra lo spot della bigpharma a...            0    2.0  \n"
     ]
    }
   ],
   "source": [
    "dataset=dataset.dropna()\n",
    "print (dataset)"
   ]
  },
  {
   "cell_type": "code",
   "execution_count": 17,
   "metadata": {},
   "outputs": [],
   "source": [
    "dataset.label=dataset.label.astype(int)"
   ]
  },
  {
   "cell_type": "code",
   "execution_count": 18,
   "metadata": {},
   "outputs": [],
   "source": [
    "dataset.to_csv('training_set.csv',index=False)"
   ]
  },
  {
   "cell_type": "code",
   "execution_count": null,
   "metadata": {},
   "outputs": [],
   "source": []
  }
 ],
 "metadata": {
  "kernelspec": {
   "display_name": "Python 3",
   "language": "python",
   "name": "python3"
  },
  "language_info": {
   "codemirror_mode": {
    "name": "ipython",
    "version": 3
   },
   "file_extension": ".py",
   "mimetype": "text/x-python",
   "name": "python",
   "nbconvert_exporter": "python",
   "pygments_lexer": "ipython3",
   "version": "3.8.5"
  }
 },
 "nbformat": 4,
 "nbformat_minor": 4
}
