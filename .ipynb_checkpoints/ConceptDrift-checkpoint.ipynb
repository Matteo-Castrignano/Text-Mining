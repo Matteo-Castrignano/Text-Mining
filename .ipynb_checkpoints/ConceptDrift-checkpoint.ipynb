{
 "cells": [
  {
   "cell_type": "code",
   "execution_count": 1,
   "metadata": {},
   "outputs": [],
   "source": [
    "from ipynb.fs.full.UtilitiesConceptDrift import *"
   ]
  },
  {
   "cell_type": "code",
   "execution_count": 2,
   "metadata": {},
   "outputs": [
    {
     "name": "stdout",
     "output_type": "stream",
     "text": [
      "Number of tweets: 33602\n"
     ]
    }
   ],
   "source": [
    "test_set = OpenDataset(\"FullDataset.csv\")\n",
    "print(f\"Number of tweets: {len(test_set)}\")"
   ]
  },
  {
   "cell_type": "code",
   "execution_count": 3,
   "metadata": {},
   "outputs": [
    {
     "data": {
      "text/html": [
       "<div>\n",
       "<style scoped>\n",
       "    .dataframe tbody tr th:only-of-type {\n",
       "        vertical-align: middle;\n",
       "    }\n",
       "\n",
       "    .dataframe tbody tr th {\n",
       "        vertical-align: top;\n",
       "    }\n",
       "\n",
       "    .dataframe thead th {\n",
       "        text-align: right;\n",
       "    }\n",
       "</style>\n",
       "<table border=\"1\" class=\"dataframe\">\n",
       "  <thead>\n",
       "    <tr style=\"text-align: right;\">\n",
       "      <th></th>\n",
       "      <th>timestamp</th>\n",
       "      <th>username</th>\n",
       "      <th>tweet</th>\n",
       "      <th>likes_count</th>\n",
       "    </tr>\n",
       "  </thead>\n",
       "  <tbody>\n",
       "    <tr>\n",
       "      <th>0</th>\n",
       "      <td>2021-02-28 00:27:30</td>\n",
       "      <td>filipporiccio1</td>\n",
       "      <td>l hanno gia data questa disponibilita moderna...</td>\n",
       "      <td>4</td>\n",
       "    </tr>\n",
       "    <tr>\n",
       "      <th>1</th>\n",
       "      <td>2021-02-28 00:11:00</td>\n",
       "      <td>cavinadenise</td>\n",
       "      <td>in molti che non sanno che non c era ancora u...</td>\n",
       "      <td>0</td>\n",
       "    </tr>\n",
       "    <tr>\n",
       "      <th>2</th>\n",
       "      <td>2021-02-27 23:54:46</td>\n",
       "      <td>biber0n1</td>\n",
       "      <td>il vaccino deve essere un farmaco generico pr...</td>\n",
       "      <td>1</td>\n",
       "    </tr>\n",
       "    <tr>\n",
       "      <th>3</th>\n",
       "      <td>2021-02-27 23:42:48</td>\n",
       "      <td>icolomboa</td>\n",
       "      <td>due mesi fa di questi giorni tra tanto scettic...</td>\n",
       "      <td>0</td>\n",
       "    </tr>\n",
       "    <tr>\n",
       "      <th>4</th>\n",
       "      <td>2021-02-27 23:35:44</td>\n",
       "      <td>attilaazurerive</td>\n",
       "      <td>tanta voglia di iri e di ritorno ai vecchi dis...</td>\n",
       "      <td>0</td>\n",
       "    </tr>\n",
       "    <tr>\n",
       "      <th>...</th>\n",
       "      <td>...</td>\n",
       "      <td>...</td>\n",
       "      <td>...</td>\n",
       "      <td>...</td>\n",
       "    </tr>\n",
       "    <tr>\n",
       "      <th>35290</th>\n",
       "      <td>2021-05-01 05:13:10</td>\n",
       "      <td>25o319</td>\n",
       "      <td>allora qui sarebbe tempo di fare funzionare il...</td>\n",
       "      <td>6</td>\n",
       "    </tr>\n",
       "    <tr>\n",
       "      <th>35291</th>\n",
       "      <td>2021-05-01 04:05:42</td>\n",
       "      <td>yy01329</td>\n",
       "      <td>il boom dei vaccini raggiunta quota 500 mila a...</td>\n",
       "      <td>2</td>\n",
       "    </tr>\n",
       "    <tr>\n",
       "      <th>35292</th>\n",
       "      <td>2021-05-01 03:49:34</td>\n",
       "      <td>claudiomarang1</td>\n",
       "      <td>del vaccino cubano ben che vada vedremo la lu...</td>\n",
       "      <td>1</td>\n",
       "    </tr>\n",
       "    <tr>\n",
       "      <th>35293</th>\n",
       "      <td>2021-05-01 03:08:15</td>\n",
       "      <td>bludichina</td>\n",
       "      <td>e il target primario dei vaccini attenuare i ...</td>\n",
       "      <td>0</td>\n",
       "    </tr>\n",
       "    <tr>\n",
       "      <th>35294</th>\n",
       "      <td>2021-05-01 02:07:12</td>\n",
       "      <td>ery975</td>\n",
       "      <td>canzone bella ma con una pecca nomina astraze...</td>\n",
       "      <td>1</td>\n",
       "    </tr>\n",
       "  </tbody>\n",
       "</table>\n",
       "<p>33602 rows × 4 columns</p>\n",
       "</div>"
      ],
      "text/plain": [
       "                 timestamp         username  \\\n",
       "0      2021-02-28 00:27:30   filipporiccio1   \n",
       "1      2021-02-28 00:11:00     cavinadenise   \n",
       "2      2021-02-27 23:54:46         biber0n1   \n",
       "3      2021-02-27 23:42:48        icolomboa   \n",
       "4      2021-02-27 23:35:44  attilaazurerive   \n",
       "...                    ...              ...   \n",
       "35290  2021-05-01 05:13:10           25o319   \n",
       "35291  2021-05-01 04:05:42          yy01329   \n",
       "35292  2021-05-01 03:49:34   claudiomarang1   \n",
       "35293  2021-05-01 03:08:15       bludichina   \n",
       "35294  2021-05-01 02:07:12           ery975   \n",
       "\n",
       "                                                   tweet  likes_count  \n",
       "0       l hanno gia data questa disponibilita moderna...            4  \n",
       "1       in molti che non sanno che non c era ancora u...            0  \n",
       "2       il vaccino deve essere un farmaco generico pr...            1  \n",
       "3      due mesi fa di questi giorni tra tanto scettic...            0  \n",
       "4      tanta voglia di iri e di ritorno ai vecchi dis...            0  \n",
       "...                                                  ...          ...  \n",
       "35290  allora qui sarebbe tempo di fare funzionare il...            6  \n",
       "35291  il boom dei vaccini raggiunta quota 500 mila a...            2  \n",
       "35292   del vaccino cubano ben che vada vedremo la lu...            1  \n",
       "35293   e il target primario dei vaccini attenuare i ...            0  \n",
       "35294   canzone bella ma con una pecca nomina astraze...            1  \n",
       "\n",
       "[33602 rows x 4 columns]"
      ]
     },
     "execution_count": 3,
     "metadata": {},
     "output_type": "execute_result"
    }
   ],
   "source": [
    "test_set"
   ]
  },
  {
   "cell_type": "code",
   "execution_count": 4,
   "metadata": {},
   "outputs": [],
   "source": [
    "test_set = test_set.sort_values(by=['likes_count'], ascending=False)"
   ]
  },
  {
   "cell_type": "code",
   "execution_count": 5,
   "metadata": {},
   "outputs": [],
   "source": [
    "data = search_tweet_Period(test_set, \"2021-04-01\", \"2021-04-30\").copy()"
   ]
  },
  {
   "cell_type": "code",
   "execution_count": 6,
   "metadata": {},
   "outputs": [],
   "source": [
    "data.to_csv(\"ConceptDriftAprile.csv\")"
   ]
  },
  {
   "cell_type": "code",
   "execution_count": null,
   "metadata": {},
   "outputs": [],
   "source": [
    "#Do classification by hand"
   ]
  },
  {
   "cell_type": "code",
   "execution_count": 6,
   "metadata": {},
   "outputs": [],
   "source": [
    "#Reload data\n",
    "data = pd.read_csv(\"ConceptDriftFebbraio.csv\",sep=',',usecols=['timestamp','username','tweet','label'])\n",
    "data=data.dropna()\n",
    "data2 = pd.read_csv(\"ConceptDriftMarzo.csv\",sep=',',usecols=['timestamp','username','tweet','label'])\n",
    "data2=data.dropna()\n",
    "training_set = pd.read_csv(\"training_set.csv\",sep=',',usecols=['timestamp','username','tweet','label'])"
   ]
  },
  {
   "cell_type": "code",
   "execution_count": 7,
   "metadata": {},
   "outputs": [],
   "source": [
    "#Merge the all the data\n",
    "new_trainin_set = pd.concat([training_set,data,data2])\n",
    "new_trainin_set.label=new_trainin_set.label.astype(int)"
   ]
  },
  {
   "cell_type": "code",
   "execution_count": 3,
   "metadata": {},
   "outputs": [],
   "source": [
    "#print(new_trainin_set)\n",
    "#print(f\"Number of tweets: {len(new_trainin_set)}\")"
   ]
  },
  {
   "cell_type": "code",
   "execution_count": 9,
   "metadata": {},
   "outputs": [
    {
     "data": {
      "text/plain": [
       "Pipeline(steps=[('vect',\n",
       "                 StemmedCountVectorizer(min_df=3,\n",
       "                                        stop_words={'a', 'abbia', 'abbiamo',\n",
       "                                                    'abbiano', 'abbiate', 'ad',\n",
       "                                                    'agl', 'agli', 'ai', 'al',\n",
       "                                                    'all', 'alla', 'alle',\n",
       "                                                    'allo', 'anche', 'avemmo',\n",
       "                                                    'avendo', 'avesse',\n",
       "                                                    'avessero', 'avessi',\n",
       "                                                    'avessimo', 'aveste',\n",
       "                                                    'avesti', 'avete', 'aveva',\n",
       "                                                    'avevamo', 'avevano',\n",
       "                                                    'avevate', 'avevi', 'avevo', ...})),\n",
       "                ('tfidf', TfidfTransformer()), ('clf', BernoulliNB())])"
      ]
     },
     "execution_count": 9,
     "metadata": {},
     "output_type": "execute_result"
    }
   ],
   "source": [
    "#Training the model\n",
    "clf = Pipeline([\n",
    "    ('vect', StemmedCountVectorizer(min_df=3, analyzer=\"word\", stop_words = set(stopwords.words('italian')), ngram_range = (1,1))),\n",
    "    ('tfidf', TfidfTransformer(smooth_idf=True,use_idf=True)),\n",
    "    ('clf',BernoulliNB()),\n",
    "])\n",
    "clf.fit(new_trainin_set.tweet, new_trainin_set.label)"
   ]
  },
  {
   "cell_type": "code",
   "execution_count": 10,
   "metadata": {},
   "outputs": [
    {
     "data": {
      "text/plain": [
       "['modelFebbraio.pkl']"
      ]
     },
     "execution_count": 10,
     "metadata": {},
     "output_type": "execute_result"
    }
   ],
   "source": [
    "#Save the new model \n",
    "#CAMBIARE IL NOME!!!!!!!!!!!!!\n",
    "joblib.dump(clf, 'modelFebbraio.pkl', compress=9)"
   ]
  },
  {
   "cell_type": "code",
   "execution_count": 11,
   "metadata": {},
   "outputs": [],
   "source": [
    "#Load next month tweet classified\n",
    "test_set = pd.read_csv(\"ConceptDriftMarzo.csv\",sep=',',usecols=['timestamp','username','tweet','label'])\n",
    "test_set = test_set.dropna()\n",
    "test_set.label=test_set.label.astype(int)"
   ]
  },
  {
   "cell_type": "code",
   "execution_count": 29,
   "metadata": {},
   "outputs": [],
   "source": [
    "#print(test_set)\n",
    "#print(f\"Number of tweets: {len(test_set)}\")"
   ]
  },
  {
   "cell_type": "code",
   "execution_count": 13,
   "metadata": {},
   "outputs": [],
   "source": [
    "#Do classification with new model\n",
    "test_set[\"predicted\"]= clf.predict(test_set.tweet)"
   ]
  },
  {
   "cell_type": "code",
   "execution_count": 30,
   "metadata": {},
   "outputs": [],
   "source": [
    "#print(test_set)"
   ]
  },
  {
   "cell_type": "code",
   "execution_count": 27,
   "metadata": {},
   "outputs": [
    {
     "name": "stdout",
     "output_type": "stream",
     "text": [
      "accuracy : 0.45\n",
      "f_score : 0.4425837320574162\n",
      "\n",
      "[[0.35 0.2  0.45]\n",
      " [0.25 0.65 0.1 ]\n",
      " [0.3  0.35 0.35]]\n",
      "Precision,Recall,f_score\n",
      " Classe 0:  [0.38888889 0.54166667 0.38888889] \n",
      " Classe 1:  [0.35 0.65 0.35] \n",
      " Classe 2:  [0.36842105 0.59090909 0.36842105] \n",
      " Support:   [20 20 20]\n"
     ]
    }
   ],
   "source": [
    "#Benchmark new model\n",
    "benchmark(test_set[\"label\"], test_set[\"predicted\"])"
   ]
  },
  {
   "cell_type": "code",
   "execution_count": 17,
   "metadata": {},
   "outputs": [],
   "source": [
    "#Load old model\n",
    "clf2 = joblib.load('InitialModel.pkl')"
   ]
  },
  {
   "cell_type": "code",
   "execution_count": 18,
   "metadata": {},
   "outputs": [],
   "source": [
    "#Do classification with old model\n",
    "test_set[\"predicted_old\"]= clf2.predict(test_set.tweet)"
   ]
  },
  {
   "cell_type": "code",
   "execution_count": 26,
   "metadata": {},
   "outputs": [],
   "source": [
    "test_set.predicted_old=test_set.label.astype(int)\n",
    "#print(test_set)"
   ]
  },
  {
   "cell_type": "code",
   "execution_count": 25,
   "metadata": {},
   "outputs": [
    {
     "name": "stdout",
     "output_type": "stream",
     "text": [
      "accuracy : 1.0\n",
      "f_score : 1.0\n",
      "\n",
      "[[1. 0. 0.]\n",
      " [0. 1. 0.]\n",
      " [0. 0. 1.]]\n",
      "Precision,Recall,f_score\n",
      " Classe 0:  [1. 1. 1.] \n",
      " Classe 1:  [1. 1. 1.] \n",
      " Classe 2:  [1. 1. 1.] \n",
      " Support:   [20 20 20]\n"
     ]
    }
   ],
   "source": [
    "benchmark(test_set[\"label\"], test_set[\"predicted_old\"])"
   ]
  },
  {
   "cell_type": "code",
   "execution_count": null,
   "metadata": {},
   "outputs": [],
   "source": [
    "\n",
    "\n",
    "\n",
    "\n"
   ]
  }
 ],
 "metadata": {
  "kernelspec": {
   "display_name": "Python 3",
   "language": "python",
   "name": "python3"
  },
  "language_info": {
   "codemirror_mode": {
    "name": "ipython",
    "version": 3
   },
   "file_extension": ".py",
   "mimetype": "text/x-python",
   "name": "python",
   "nbconvert_exporter": "python",
   "pygments_lexer": "ipython3",
   "version": "3.8.5"
  }
 },
 "nbformat": 4,
 "nbformat_minor": 4
}
