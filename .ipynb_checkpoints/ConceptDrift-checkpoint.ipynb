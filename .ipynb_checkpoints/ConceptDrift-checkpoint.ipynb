{
 "cells": [
  {
   "cell_type": "code",
   "execution_count": 1,
   "metadata": {},
   "outputs": [],
   "source": [
    "import csv\n",
    "import datetime\n",
    "import matplotlib.pyplot as plt\n",
    "import nltk\n",
    "import joblib\n",
    "import pandas as pd\n",
    "from sklearn.metrics import classification_report, confusion_matrix\n",
    "from sklearn.model_selection import cross_val_score, cross_val_predict\n",
    "import numpy as np\n",
    "from nltk.corpus import stopwords\n",
    "from nltk.stem import SnowballStemmer\n",
    "from sklearn.ensemble import RandomForestClassifier, AdaBoostClassifier\n",
    "from sklearn.feature_extraction.text import CountVectorizer, TfidfTransformer\n",
    "from sklearn.metrics import plot_confusion_matrix, f1_score\n",
    "from sklearn.model_selection import train_test_split\n",
    "from sklearn.naive_bayes import MultinomialNB\n",
    "from sklearn.neighbors import KNeighborsClassifier\n",
    "from sklearn import svm\n",
    "from sklearn import tree\n",
    "from sklearn import metrics\n",
    "from sklearn.pipeline import Pipeline\n",
    "from sklearn.feature_extraction.text import TfidfVectorizer\n",
    "from nltk.corpus import stopwords\n",
    "from sklearn.naive_bayes import MultinomialNB\n",
    "from sklearn.metrics import make_scorer, accuracy_score, precision_score, recall_score, f1_score\n",
    "from sklearn.model_selection import cross_validate\n",
    "pd.set_option('display.max_rows', 10000)"
   ]
  },
  {
   "cell_type": "code",
   "execution_count": 2,
   "metadata": {},
   "outputs": [],
   "source": [
    "def validate(date_text):\n",
    "    try:\n",
    "        datetime.datetime.strptime(date_text, '%Y-%m-%d')\n",
    "    except ValueError:\n",
    "        raise ValueError(\"Incorrect data format, should be YYYY-MM-DD\")"
   ]
  },
  {
   "cell_type": "code",
   "execution_count": 3,
   "metadata": {},
   "outputs": [],
   "source": [
    "italian_stemmer = SnowballStemmer('italian')\n",
    "class StemmedCountVectorizer(CountVectorizer):\n",
    "    def build_analyzer(self):\n",
    "        analyzer = super(StemmedCountVectorizer, self).build_analyzer()\n",
    "        return lambda doc: ([italian_stemmer.stem(w) for w in analyzer(doc)])"
   ]
  },
  {
   "cell_type": "code",
   "execution_count": 4,
   "metadata": {},
   "outputs": [],
   "source": [
    "def search_tweet_Period(df, start_date = None, end_date = None):\n",
    "    \n",
    "    validate(start_date)\n",
    "    validate(end_date)\n",
    "    \n",
    "    return test_set[(test_set['timestamp'] > start_date) & (test_set['timestamp'] < end_date)]"
   ]
  },
  {
   "cell_type": "code",
   "execution_count": 7,
   "metadata": {},
   "outputs": [
    {
     "data": {
      "text/html": [
       "<div>\n",
       "<style scoped>\n",
       "    .dataframe tbody tr th:only-of-type {\n",
       "        vertical-align: middle;\n",
       "    }\n",
       "\n",
       "    .dataframe tbody tr th {\n",
       "        vertical-align: top;\n",
       "    }\n",
       "\n",
       "    .dataframe thead th {\n",
       "        text-align: right;\n",
       "    }\n",
       "</style>\n",
       "<table border=\"1\" class=\"dataframe\">\n",
       "  <thead>\n",
       "    <tr style=\"text-align: right;\">\n",
       "      <th></th>\n",
       "      <th>id</th>\n",
       "      <th>timestamp</th>\n",
       "      <th>tweet</th>\n",
       "      <th>likes_count</th>\n",
       "      <th>label</th>\n",
       "    </tr>\n",
       "  </thead>\n",
       "  <tbody>\n",
       "    <tr>\n",
       "      <th>0</th>\n",
       "      <td>1397341053951389696</td>\n",
       "      <td>2021-05-26 01:57:23</td>\n",
       "      <td>vaccino per i maturandi: ma ha senso? un buon ...</td>\n",
       "      <td>0</td>\n",
       "      <td>NaN</td>\n",
       "    </tr>\n",
       "    <tr>\n",
       "      <th>1</th>\n",
       "      <td>1397331680185229312</td>\n",
       "      <td>2021-05-26 01:20:08</td>\n",
       "      <td>guidodemartini ma se questi sono stati definit...</td>\n",
       "      <td>0</td>\n",
       "      <td>NaN</td>\n",
       "    </tr>\n",
       "    <tr>\n",
       "      <th>2</th>\n",
       "      <td>1397330896206893058</td>\n",
       "      <td>2021-05-26 01:17:01</td>\n",
       "      <td>alle 00.01 il sito della regione lazio per pre...</td>\n",
       "      <td>1</td>\n",
       "      <td>NaN</td>\n",
       "    </tr>\n",
       "    <tr>\n",
       "      <th>3</th>\n",
       "      <td>1397328306442280961</td>\n",
       "      <td>2021-05-26 01:06:44</td>\n",
       "      <td>a sinistra il numero di persone morte da inizi...</td>\n",
       "      <td>2</td>\n",
       "      <td>NaN</td>\n",
       "    </tr>\n",
       "    <tr>\n",
       "      <th>4</th>\n",
       "      <td>1397326306497470470</td>\n",
       "      <td>2021-05-26 00:58:47</td>\n",
       "      <td>___claudias___ couchpotato7 ma certo, l'anno s...</td>\n",
       "      <td>0</td>\n",
       "      <td>NaN</td>\n",
       "    </tr>\n",
       "    <tr>\n",
       "      <th>...</th>\n",
       "      <td>...</td>\n",
       "      <td>...</td>\n",
       "      <td>...</td>\n",
       "      <td>...</td>\n",
       "      <td>...</td>\n",
       "    </tr>\n",
       "    <tr>\n",
       "      <th>34510</th>\n",
       "      <td>1356081465302380545</td>\n",
       "      <td>2021-02-01 04:26:30</td>\n",
       "      <td>roberto speranza: vogliamo il vaccino cubano i...</td>\n",
       "      <td>0</td>\n",
       "      <td>NaN</td>\n",
       "    </tr>\n",
       "    <tr>\n",
       "      <th>34511</th>\n",
       "      <td>1356051521973219328</td>\n",
       "      <td>2021-02-01 02:27:31</td>\n",
       "      <td>nino cartabellotta sul vaccino astrazeneca: \"u...</td>\n",
       "      <td>0</td>\n",
       "      <td>NaN</td>\n",
       "    </tr>\n",
       "    <tr>\n",
       "      <th>34512</th>\n",
       "      <td>1356048109508448268</td>\n",
       "      <td>2021-02-01 02:13:58</td>\n",
       "      <td>chetempochefa lucianinalitti cuba 🇨🇺 ha avuto ...</td>\n",
       "      <td>2</td>\n",
       "      <td>NaN</td>\n",
       "    </tr>\n",
       "    <tr>\n",
       "      <th>34513</th>\n",
       "      <td>1356037418932174854</td>\n",
       "      <td>2021-02-01 01:31:29</td>\n",
       "      <td>meb cara signorina..vorrei ricordarle che sui ...</td>\n",
       "      <td>2</td>\n",
       "      <td>NaN</td>\n",
       "    </tr>\n",
       "    <tr>\n",
       "      <th>34514</th>\n",
       "      <td>1356032279928320002</td>\n",
       "      <td>2021-02-01 01:11:04</td>\n",
       "      <td>g_keyb tnarello gurupazzia robersperanza trala...</td>\n",
       "      <td>0</td>\n",
       "      <td>NaN</td>\n",
       "    </tr>\n",
       "  </tbody>\n",
       "</table>\n",
       "<p>34515 rows × 5 columns</p>\n",
       "</div>"
      ],
      "text/plain": [
       "                        id            timestamp  \\\n",
       "0      1397341053951389696  2021-05-26 01:57:23   \n",
       "1      1397331680185229312  2021-05-26 01:20:08   \n",
       "2      1397330896206893058  2021-05-26 01:17:01   \n",
       "3      1397328306442280961  2021-05-26 01:06:44   \n",
       "4      1397326306497470470  2021-05-26 00:58:47   \n",
       "...                    ...                  ...   \n",
       "34510  1356081465302380545  2021-02-01 04:26:30   \n",
       "34511  1356051521973219328  2021-02-01 02:27:31   \n",
       "34512  1356048109508448268  2021-02-01 02:13:58   \n",
       "34513  1356037418932174854  2021-02-01 01:31:29   \n",
       "34514  1356032279928320002  2021-02-01 01:11:04   \n",
       "\n",
       "                                                   tweet  likes_count  label  \n",
       "0      vaccino per i maturandi: ma ha senso? un buon ...            0    NaN  \n",
       "1      guidodemartini ma se questi sono stati definit...            0    NaN  \n",
       "2      alle 00.01 il sito della regione lazio per pre...            1    NaN  \n",
       "3      a sinistra il numero di persone morte da inizi...            2    NaN  \n",
       "4      ___claudias___ couchpotato7 ma certo, l'anno s...            0    NaN  \n",
       "...                                                  ...          ...    ...  \n",
       "34510  roberto speranza: vogliamo il vaccino cubano i...            0    NaN  \n",
       "34511  nino cartabellotta sul vaccino astrazeneca: \"u...            0    NaN  \n",
       "34512  chetempochefa lucianinalitti cuba 🇨🇺 ha avuto ...            2    NaN  \n",
       "34513  meb cara signorina..vorrei ricordarle che sui ...            2    NaN  \n",
       "34514  g_keyb tnarello gurupazzia robersperanza trala...            0    NaN  \n",
       "\n",
       "[34515 rows x 5 columns]"
      ]
     },
     "execution_count": 7,
     "metadata": {},
     "output_type": "execute_result"
    }
   ],
   "source": [
    "#Load data and a short phase of preprocess\n",
    "test_set = pd.read_csv(\"test-set.csv\",sep=',',usecols=['timestamp','tweet'])\n",
    "test_set.drop_duplicates(subset=['tweet'])\n",
    "#testset\n",
    "#print(f\"Number of tweets: {len(dataset)}\")"
   ]
  },
  {
   "cell_type": "code",
   "execution_count": null,
   "metadata": {},
   "outputs": [],
   "source": [
    "news = []\n",
    "with open('AccountToDelete.txt') as f:\n",
    "    for line in f:\n",
    "        news.append(line.strip())"
   ]
  },
  {
   "cell_type": "code",
   "execution_count": null,
   "metadata": {},
   "outputs": [],
   "source": [
    "indexNames = test_set[ test_set['username'].isin(news)].index\n",
    "test_set.drop(indexNames, inplace=True)\n",
    "#print(f\"Number of tweets: {len(dataset)}\")"
   ]
  },
  {
   "cell_type": "code",
   "execution_count": 10,
   "metadata": {},
   "outputs": [],
   "source": [
    "test_set = test_set.sort_values(by=['likes_count'], ascending=False)"
   ]
  },
  {
   "cell_type": "code",
   "execution_count": 12,
   "metadata": {},
   "outputs": [],
   "source": [
    "data = search_tweet_Period(test_set, \"2021-02-01\", \"2021-02-28\").copy()"
   ]
  },
  {
   "cell_type": "code",
   "execution_count": 13,
   "metadata": {},
   "outputs": [],
   "source": [
    "data.to_csv(\"ConceptDrift-NomeMese-.csv\")"
   ]
  },
  {
   "cell_type": "code",
   "execution_count": null,
   "metadata": {},
   "outputs": [],
   "source": [
    "#Do classification by hand"
   ]
  },
  {
   "cell_type": "code",
   "execution_count": null,
   "metadata": {},
   "outputs": [],
   "source": [
    "#Reload data\n",
    "data = pd.read_csv(\"ConceptDrift-NomeMese-\",sep=',',names=['tweet','label'])\n",
    "training_set = pd.read_csv(\"training_set.csv\",sep=',',names=['tweet','label'])"
   ]
  },
  {
   "cell_type": "code",
   "execution_count": null,
   "metadata": {},
   "outputs": [],
   "source": [
    "#Merge the all the data\n",
    "new_trainin_set = pd.concat(training_set,data)"
   ]
  },
  {
   "cell_type": "code",
   "execution_count": null,
   "metadata": {},
   "outputs": [],
   "source": [
    "#Training the model\n",
    "clf = Pipeline([\n",
    "    ('vect', StemmedCountVectorizer(analyzer='word',stop_words=set(stopwords.words('italian')))),\n",
    "    ('tfidf', TfidfTransformer(smooth_idf=True,use_idf=True)),\n",
    "    ('clf', MultinomialNB()),\n",
    "])\n",
    "clf.fit(new_trainin_set.tweet, new_trainin_set.label)"
   ]
  },
  {
   "cell_type": "code",
   "execution_count": null,
   "metadata": {},
   "outputs": [],
   "source": [
    "#Save the new model\n",
    "joblib.dump(clf, 'model-NomeMese-.pkl', compress=9)"
   ]
  }
 ],
 "metadata": {
  "kernelspec": {
   "display_name": "Python 3",
   "language": "python",
   "name": "python3"
  },
  "language_info": {
   "codemirror_mode": {
    "name": "ipython",
    "version": 3
   },
   "file_extension": ".py",
   "mimetype": "text/x-python",
   "name": "python",
   "nbconvert_exporter": "python",
   "pygments_lexer": "ipython3",
   "version": "3.8.5"
  }
 },
 "nbformat": 4,
 "nbformat_minor": 4
}
