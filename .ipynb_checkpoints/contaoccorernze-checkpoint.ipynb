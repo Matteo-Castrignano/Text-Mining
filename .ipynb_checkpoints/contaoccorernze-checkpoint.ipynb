{
 "cells": [
  {
   "cell_type": "code",
   "execution_count": 2,
   "metadata": {},
   "outputs": [
    {
     "name": "stdout",
     "output_type": "stream",
     "text": [
      "dataset len: 6757\n",
      "class 0 len: 0\n",
      "class 1 len: 1\n",
      "class 2 len: 0\n",
      "\n"
     ]
    }
   ],
   "source": [
    "import csv\n",
    "import pandas as pd\n",
    "# classe 0 negativo\n",
    "# classe 1 positivo\n",
    "# classe 2 neutro\n",
    "\n",
    "dataset = pd.read_csv(\"./dataset.csv\", encoding=\"ISO-8859-1\")\n",
    "print(\"dataset len: \" + str(len(dataset)))\n",
    "print(\"class 0 len: \" + str(len(dataset[dataset.label == 0])))\n",
    "print(\"class 1 len: \" + str(len(dataset[dataset.label == 1])))\n",
    "print(\"class 2 len: \" + str(len(dataset[dataset.label == 2])) + '\\n')"
   ]
  },
  {
   "cell_type": "code",
   "execution_count": null,
   "metadata": {},
   "outputs": [],
   "source": []
  }
 ],
 "metadata": {
  "kernelspec": {
   "display_name": "Python 3",
   "language": "python",
   "name": "python3"
  },
  "language_info": {
   "codemirror_mode": {
    "name": "ipython",
    "version": 3
   },
   "file_extension": ".py",
   "mimetype": "text/x-python",
   "name": "python",
   "nbconvert_exporter": "python",
   "pygments_lexer": "ipython3",
   "version": "3.8.5"
  }
 },
 "nbformat": 4,
 "nbformat_minor": 4
}
