{
 "cells": [
  {
   "cell_type": "code",
   "execution_count": null,
   "metadata": {
    "scrolled": false
   },
   "outputs": [],
   "source": [
    "import csv\n",
    "import matplotlib.pyplot as plt\n",
    "import nltk\n",
    "import pandas\n",
    "from sklearn.metrics import classification_report, confusion_matrix\n",
    "from sklearn.model_selection import cross_val_score, cross_val_predict\n",
    "import numpy as np\n",
    "from nltk.corpus import stopwords\n",
    "from nltk.stem import SnowballStemmer\n",
    "from sklearn.ensemble import RandomForestClassifier, AdaBoostClassifier\n",
    "from sklearn.feature_extraction.text import CountVectorizer, TfidfTransformer\n",
    "from sklearn.metrics import plot_confusion_matrix, f1_score\n",
    "from sklearn.model_selection import train_test_split\n",
    "from sklearn.naive_bayes import MultinomialNB\n",
    "from sklearn.neighbors import KNeighborsClassifier\n",
    "from sklearn import svm\n",
    "from sklearn import tree\n",
    "from sklearn import metrics\n",
    "from sklearn.pipeline import Pipeline\n",
    "from sklearn.feature_extraction.text import TfidfVectorizer\n",
    "from nltk.corpus import stopwords\n",
    "from sklearn.naive_bayes import MultinomialNB\n",
    "from sklearn.metrics import make_scorer, accuracy_score, precision_score, recall_score, f1_score\n",
    "from sklearn.model_selection import cross_validate\n",
    "# import nltk\n",
    "# nltk.download('stopwords')\n",
    "\n",
    "pandas.set_option('display.max_rows', 1000)\n",
    "\n",
    "# loading the dataset\n",
    "dataset = pandas.read_csv(\"newDataset.csv\",sep=',',usecols=['tweet','label'])\n",
    "dataset.tweet=dataset.tweet.str.lower()\n",
    "#print(type(dataset))\n",
    "print(f\"Number of tweets: {len(dataset)}\")\n",
    "display(dataset)"
   ]
  },
  {
   "cell_type": "code",
   "execution_count": null,
   "metadata": {},
   "outputs": [],
   "source": [
    "italian_stemmer = SnowballStemmer('italian')\n",
    "class StemmedCountVectorizer(CountVectorizer):\n",
    "    def build_analyzer(self):\n",
    "        analyzer = super(StemmedCountVectorizer, self).build_analyzer()\n",
    "        return lambda doc: ([italian_stemmer.stem(w) for w in analyzer(doc)])"
   ]
  },
  {
   "cell_type": "code",
   "execution_count": null,
   "metadata": {},
   "outputs": [],
   "source": [
    "# SIMPLE PIPELINE WITHOUT ANY TEST ON ngram_range AND CONSIDERING ONLY ACCURACY AS METRIC\n",
    "# SE GLI ALTRI TEST VANNO BENE QUESTO SI PUO' ANCHE ELIMINARE\n",
    "\n",
    "text_clf = Pipeline([\n",
    "    ('vect', StemmedCountVectorizer(min_df=2, analyzer=\"word\", stop_words = set(stopwords.words('italian')),ngram_range = (1,1))),\n",
    "    ('tfidf', TfidfTransformer(smooth_idf=True,use_idf=True)),\n",
    "    ('clf', MultinomialNB()),\n",
    "])\n",
    "folds =  10\n",
    "#calculating accuracies in cross-validation\n",
    "scores = cross_val_score(text_clf, dataset.tweet, dataset.label, cv=folds)\n",
    "(\"Accuracy MultinomialNB : %0.2f (+/- %0.2f)\" % (scores.mean(), scores.std() * 2))\n",
    "#print(scores)"
   ]
  },
  {
   "cell_type": "code",
   "execution_count": null,
   "metadata": {},
   "outputs": [],
   "source": [
    "scoring = {'accuracy' : make_scorer(accuracy_score), \n",
    "           'precision' : make_scorer(precision_score, average = 'weighted', zero_division = 0),\n",
    "           'recall' : make_scorer(recall_score, average = 'macro'), \n",
    "           'f1_score' : make_scorer(f1_score, average = 'macro')\n",
    "          }\n",
    "\n",
    "def print_metrics(scores):\n",
    "    print(f'accuracy on test set: {scores[\"test_accuracy\"].mean():.3} +/- {scores[\"test_accuracy\"].std()*2:.3}')\n",
    "    print(f'precision on test set: {scores[\"test_precision\"].mean():.3} +/- {scores[\"test_precision\"].std()*2:.3}')\n",
    "    print(f'recall on test set: {scores[\"test_recall\"].mean():.3} +/- {scores[\"test_recall\"].std()*2:.3}')\n",
    "    print(f'f1-score on test set: {scores[\"test_f1_score\"].mean():.3} +/- {scores[\"test_f1_score\"].std()*2:.3}')"
   ]
  },
  {
   "cell_type": "code",
   "execution_count": null,
   "metadata": {},
   "outputs": [],
   "source": [
    "max_ngram = 2\n",
    "\n",
    "folds = 10\n",
    "print('NAIVE BAYES CLASSIFIER')\n",
    "for i in range(max_ngram):\n",
    "    for j in range(max_ngram):\n",
    "        if j>= i :\n",
    "            text_clf = Pipeline([\n",
    "                ('vect', StemmedCountVectorizer(min_df=3, analyzer=\"word\", stop_words = set(stopwords.words('italian')),ngram_range = (i+1,j+1))),\n",
    "                ('tfidf', TfidfTransformer(smooth_idf=True,use_idf=True)),\n",
    "                ('clf', MultinomialNB()),\n",
    "            ])\n",
    "            scores = cross_validate(text_clf, dataset.tweet, dataset.label, cv=folds, scoring = scoring)\n",
    "            print(f\"------- ngram = {(i+1,j+1)} -------\")\n",
    "            print_metrics(scores)"
   ]
  },
  {
   "cell_type": "code",
   "execution_count": null,
   "metadata": {},
   "outputs": [],
   "source": [
    "print('SVM CLASSIFIER')\n",
    "for i in range(max_ngram):\n",
    "    for j in range(max_ngram):\n",
    "        if j>= i :\n",
    "            text_clf = Pipeline([\n",
    "                ('vect', StemmedCountVectorizer(min_df=1, analyzer=\"word\", stop_words = set(stopwords.words('italian')),ngram_range = (i+1,j+1))),\n",
    "                ('tfidf', TfidfTransformer(smooth_idf=True,use_idf=True)),\n",
    "                ('clf', svm.LinearSVC()),\n",
    "            ])\n",
    "            scores = cross_validate(text_clf, dataset.tweet, dataset.label, cv=folds, scoring=scoring)\n",
    "            print(f\"------- ngram = {(i+1,j+1)} -------\")\n",
    "            print_metrics(scores)\n",
    "            #print(scores)"
   ]
  },
  {
   "cell_type": "code",
   "execution_count": null,
   "metadata": {},
   "outputs": [],
   "source": [
    "# code for confusion matrix\n",
    "from sklearn.model_selection import cross_val_predict\n",
    "text_clf = Pipeline([\n",
    "    ('vect', StemmedCountVectorizer(min_df=2, analyzer=\"word\", stop_words = set(stopwords.words('italian')),ngram_range = (1,2))),\n",
    "    ('tfidf', TfidfTransformer(smooth_idf=True,use_idf=True)),\n",
    "    ('clf', MultinomialNB()),\n",
    "])\n",
    "y_pred = cross_val_predict(text_clf, dataset.tweet, dataset.label, cv=folds)\n",
    "#conf_mat = confusion_matrix(dataset.label, y_pred, normalize=\"true\")\n",
    "conf_mat = confusion_matrix(dataset.label, y_pred)\n",
    "print(conf_mat)"
   ]
  },
  {
   "cell_type": "code",
   "execution_count": null,
   "metadata": {},
   "outputs": [],
   "source": [
    "# code for custom stop words\n",
    "stop_words = [x.strip() for x in open('stopWords.txt','r').read().split('\\n')]\n",
    "\n",
    "folds = 10\n",
    "print('NAIVE BAYES CLASSIFIER - CUSTOM STOP WORDS')\n",
    "for i in range(max_ngram):\n",
    "    for j in range(max_ngram):\n",
    "        if j>= i :\n",
    "            text_clf = Pipeline([\n",
    "                ('vect', StemmedCountVectorizer(min_df=2, analyzer=\"word\", strip_accents = \"unicode\", stop_words = stop_words, ngram_range = (i+1,j+1))),\n",
    "                ('tfidf', TfidfTransformer(smooth_idf=True,use_idf=True)),\n",
    "                ('clf', MultinomialNB()),\n",
    "            ])\n",
    "            scores = cross_validate(text_clf, dataset.tweet, dataset.label, cv=folds, scoring = scoring)\n",
    "            print(f\"------- ngram = {(i+1,j+1)} -------\")\n",
    "            print_metrics(scores)"
   ]
  }
 ],
 "metadata": {
  "kernelspec": {
   "display_name": "Python 3",
   "language": "python",
   "name": "python3"
  },
  "language_info": {
   "codemirror_mode": {
    "name": "ipython",
    "version": 3
   },
   "file_extension": ".py",
   "mimetype": "text/x-python",
   "name": "python",
   "nbconvert_exporter": "python",
   "pygments_lexer": "ipython3",
   "version": "3.8.5"
  }
 },
 "nbformat": 4,
 "nbformat_minor": 4
}
