{
 "cells": [
  {
   "cell_type": "code",
   "execution_count": 2,
   "metadata": {},
   "outputs": [],
   "source": [
    "from ipynb.fs.full.UtilitiesConceptDrift import *"
   ]
  },
  {
   "cell_type": "code",
   "execution_count": 2,
   "metadata": {},
   "outputs": [
    {
     "name": "stdout",
     "output_type": "stream",
     "text": [
      "Number of tweets: 33602\n"
     ]
    }
   ],
   "source": [
    "test_set = OpenDataset(\"FullDataset.csv\")\n",
    "print(f\"Number of tweets: {len(test_set)}\")"
   ]
  },
  {
   "cell_type": "code",
   "execution_count": 3,
   "metadata": {},
   "outputs": [
    {
     "data": {
      "text/html": [
       "<div>\n",
       "<style scoped>\n",
       "    .dataframe tbody tr th:only-of-type {\n",
       "        vertical-align: middle;\n",
       "    }\n",
       "\n",
       "    .dataframe tbody tr th {\n",
       "        vertical-align: top;\n",
       "    }\n",
       "\n",
       "    .dataframe thead th {\n",
       "        text-align: right;\n",
       "    }\n",
       "</style>\n",
       "<table border=\"1\" class=\"dataframe\">\n",
       "  <thead>\n",
       "    <tr style=\"text-align: right;\">\n",
       "      <th></th>\n",
       "      <th>timestamp</th>\n",
       "      <th>username</th>\n",
       "      <th>tweet</th>\n",
       "      <th>likes_count</th>\n",
       "    </tr>\n",
       "  </thead>\n",
       "  <tbody>\n",
       "    <tr>\n",
       "      <th>0</th>\n",
       "      <td>2021-02-28 00:27:30</td>\n",
       "      <td>filipporiccio1</td>\n",
       "      <td>l hanno gia data questa disponibilita moderna...</td>\n",
       "      <td>4</td>\n",
       "    </tr>\n",
       "    <tr>\n",
       "      <th>1</th>\n",
       "      <td>2021-02-28 00:11:00</td>\n",
       "      <td>cavinadenise</td>\n",
       "      <td>in molti che non sanno che non c era ancora u...</td>\n",
       "      <td>0</td>\n",
       "    </tr>\n",
       "    <tr>\n",
       "      <th>2</th>\n",
       "      <td>2021-02-27 23:54:46</td>\n",
       "      <td>biber0n1</td>\n",
       "      <td>il vaccino deve essere un farmaco generico pr...</td>\n",
       "      <td>1</td>\n",
       "    </tr>\n",
       "    <tr>\n",
       "      <th>3</th>\n",
       "      <td>2021-02-27 23:42:48</td>\n",
       "      <td>icolomboa</td>\n",
       "      <td>due mesi fa di questi giorni tra tanto scettic...</td>\n",
       "      <td>0</td>\n",
       "    </tr>\n",
       "    <tr>\n",
       "      <th>4</th>\n",
       "      <td>2021-02-27 23:35:44</td>\n",
       "      <td>attilaazurerive</td>\n",
       "      <td>tanta voglia di iri e di ritorno ai vecchi dis...</td>\n",
       "      <td>0</td>\n",
       "    </tr>\n",
       "    <tr>\n",
       "      <th>...</th>\n",
       "      <td>...</td>\n",
       "      <td>...</td>\n",
       "      <td>...</td>\n",
       "      <td>...</td>\n",
       "    </tr>\n",
       "    <tr>\n",
       "      <th>35290</th>\n",
       "      <td>2021-05-01 05:13:10</td>\n",
       "      <td>25o319</td>\n",
       "      <td>allora qui sarebbe tempo di fare funzionare il...</td>\n",
       "      <td>6</td>\n",
       "    </tr>\n",
       "    <tr>\n",
       "      <th>35291</th>\n",
       "      <td>2021-05-01 04:05:42</td>\n",
       "      <td>yy01329</td>\n",
       "      <td>il boom dei vaccini raggiunta quota 500 mila a...</td>\n",
       "      <td>2</td>\n",
       "    </tr>\n",
       "    <tr>\n",
       "      <th>35292</th>\n",
       "      <td>2021-05-01 03:49:34</td>\n",
       "      <td>claudiomarang1</td>\n",
       "      <td>del vaccino cubano ben che vada vedremo la lu...</td>\n",
       "      <td>1</td>\n",
       "    </tr>\n",
       "    <tr>\n",
       "      <th>35293</th>\n",
       "      <td>2021-05-01 03:08:15</td>\n",
       "      <td>bludichina</td>\n",
       "      <td>e il target primario dei vaccini attenuare i ...</td>\n",
       "      <td>0</td>\n",
       "    </tr>\n",
       "    <tr>\n",
       "      <th>35294</th>\n",
       "      <td>2021-05-01 02:07:12</td>\n",
       "      <td>ery975</td>\n",
       "      <td>canzone bella ma con una pecca nomina astraze...</td>\n",
       "      <td>1</td>\n",
       "    </tr>\n",
       "  </tbody>\n",
       "</table>\n",
       "<p>33602 rows × 4 columns</p>\n",
       "</div>"
      ],
      "text/plain": [
       "                 timestamp         username  \\\n",
       "0      2021-02-28 00:27:30   filipporiccio1   \n",
       "1      2021-02-28 00:11:00     cavinadenise   \n",
       "2      2021-02-27 23:54:46         biber0n1   \n",
       "3      2021-02-27 23:42:48        icolomboa   \n",
       "4      2021-02-27 23:35:44  attilaazurerive   \n",
       "...                    ...              ...   \n",
       "35290  2021-05-01 05:13:10           25o319   \n",
       "35291  2021-05-01 04:05:42          yy01329   \n",
       "35292  2021-05-01 03:49:34   claudiomarang1   \n",
       "35293  2021-05-01 03:08:15       bludichina   \n",
       "35294  2021-05-01 02:07:12           ery975   \n",
       "\n",
       "                                                   tweet  likes_count  \n",
       "0       l hanno gia data questa disponibilita moderna...            4  \n",
       "1       in molti che non sanno che non c era ancora u...            0  \n",
       "2       il vaccino deve essere un farmaco generico pr...            1  \n",
       "3      due mesi fa di questi giorni tra tanto scettic...            0  \n",
       "4      tanta voglia di iri e di ritorno ai vecchi dis...            0  \n",
       "...                                                  ...          ...  \n",
       "35290  allora qui sarebbe tempo di fare funzionare il...            6  \n",
       "35291  il boom dei vaccini raggiunta quota 500 mila a...            2  \n",
       "35292   del vaccino cubano ben che vada vedremo la lu...            1  \n",
       "35293   e il target primario dei vaccini attenuare i ...            0  \n",
       "35294   canzone bella ma con una pecca nomina astraze...            1  \n",
       "\n",
       "[33602 rows x 4 columns]"
      ]
     },
     "execution_count": 3,
     "metadata": {},
     "output_type": "execute_result"
    }
   ],
   "source": [
    "test_set"
   ]
  },
  {
   "cell_type": "code",
   "execution_count": 4,
   "metadata": {},
   "outputs": [],
   "source": [
    "test_set = test_set.sort_values(by=['likes_count'], ascending=False)"
   ]
  },
  {
   "cell_type": "code",
   "execution_count": 5,
   "metadata": {},
   "outputs": [],
   "source": [
    "data = search_tweet_Period(test_set, \"2021-04-01\", \"2021-04-30\").copy()"
   ]
  },
  {
   "cell_type": "code",
   "execution_count": 6,
   "metadata": {},
   "outputs": [],
   "source": [
    "data.to_csv(\"ConceptDriftAprile.csv\")"
   ]
  },
  {
   "cell_type": "code",
   "execution_count": null,
   "metadata": {},
   "outputs": [],
   "source": [
    "#Do classification by hand"
   ]
  },
  {
   "cell_type": "code",
   "execution_count": 23,
   "metadata": {},
   "outputs": [],
   "source": [
    "#Reload data\n",
    "data = pd.read_csv(\"ConceptDriftFebbraio.csv\",sep=',',usecols=['timestamp','username','tweet','label'])\n",
    "data=data.dropna()\n",
    "data2 = pd.read_csv(\"ConceptDriftMarzo.csv\",sep=',',usecols=['timestamp','username','tweet','label'])\n",
    "data2=data.dropna()\n",
    "training_set = pd.read_csv(\"training_set.csv\",sep=',',usecols=['timestamp','username','tweet','label'])"
   ]
  },
  {
   "cell_type": "code",
   "execution_count": 24,
   "metadata": {},
   "outputs": [],
   "source": [
    "#Merge the all the data\n",
    "new_trainin_set = pd.concat([training_set,data,data2])\n",
    "new_trainin_set.label=new_trainin_set.label.astype(int)"
   ]
  },
  {
   "cell_type": "code",
   "execution_count": 25,
   "metadata": {},
   "outputs": [
    {
     "name": "stdout",
     "output_type": "stream",
     "text": [
      "Number of tweets: 1026\n"
     ]
    }
   ],
   "source": [
    "#print(new_trainin_set)\n",
    "print(f\"Number of tweets: {len(new_trainin_set)}\")"
   ]
  },
  {
   "cell_type": "code",
   "execution_count": 26,
   "metadata": {},
   "outputs": [
    {
     "data": {
      "text/plain": [
       "Pipeline(steps=[('vect',\n",
       "                 StemmedCountVectorizer(min_df=3,\n",
       "                                        stop_words={'a', 'abbia', 'abbiamo',\n",
       "                                                    'abbiano', 'abbiate', 'ad',\n",
       "                                                    'agl', 'agli', 'ai', 'al',\n",
       "                                                    'all', 'alla', 'alle',\n",
       "                                                    'allo', 'anche', 'avemmo',\n",
       "                                                    'avendo', 'avesse',\n",
       "                                                    'avessero', 'avessi',\n",
       "                                                    'avessimo', 'aveste',\n",
       "                                                    'avesti', 'avete', 'aveva',\n",
       "                                                    'avevamo', 'avevano',\n",
       "                                                    'avevate', 'avevi', 'avevo', ...})),\n",
       "                ('tfidf', TfidfTransformer()), ('clf', BernoulliNB())])"
      ]
     },
     "execution_count": 26,
     "metadata": {},
     "output_type": "execute_result"
    }
   ],
   "source": [
    "#Training the model\n",
    "clf = Pipeline([\n",
    "    ('vect', StemmedCountVectorizer(min_df=3, analyzer=\"word\", stop_words = set(stopwords.words('italian')), ngram_range = (1,1))),\n",
    "    ('tfidf', TfidfTransformer(smooth_idf=True,use_idf=True)),\n",
    "    ('clf',BernoulliNB()),\n",
    "])\n",
    "clf.fit(new_trainin_set.tweet, new_trainin_set.label)"
   ]
  },
  {
   "cell_type": "code",
   "execution_count": 27,
   "metadata": {},
   "outputs": [
    {
     "data": {
      "text/plain": [
       "['modelMarzo.pkl']"
      ]
     },
     "execution_count": 27,
     "metadata": {},
     "output_type": "execute_result"
    }
   ],
   "source": [
    "#Save the new model \n",
    "#CAMBIARE IL NOME!!!!!!!!!!!!!\n",
    "joblib.dump(clf, 'modelMarzo.pkl', compress=9)"
   ]
  },
  {
   "cell_type": "code",
   "execution_count": 3,
   "metadata": {},
   "outputs": [],
   "source": [
    "#Load next month tweet classified\n",
    "test_set = pd.read_csv(\"ConceptDriftMarzo.csv\",sep=',',usecols=['timestamp','username','tweet','label'])\n",
    "test_set = test_set.dropna()\n",
    "test_set.label=test_set.label.astype(int)"
   ]
  },
  {
   "cell_type": "code",
   "execution_count": 58,
   "metadata": {},
   "outputs": [
    {
     "name": "stdout",
     "output_type": "stream",
     "text": [
      "Number of tweets: 60\n"
     ]
    }
   ],
   "source": [
    "#print(test_set)\n",
    "print(f\"Number of tweets: {len(test_set)}\")"
   ]
  },
  {
   "cell_type": "code",
   "execution_count": 59,
   "metadata": {},
   "outputs": [],
   "source": [
    "#Do classification with new model\n",
    "test_set[\"predicted\"]= clf.predict(test_set.tweet)"
   ]
  },
  {
   "cell_type": "code",
   "execution_count": 60,
   "metadata": {},
   "outputs": [
    {
     "name": "stdout",
     "output_type": "stream",
     "text": [
      "               timestamp         username  \\\n",
      "0    2021-03-18 17:40:12   robertoburioni   \n",
      "1    2021-03-18 19:25:57  gassmangassmann   \n",
      "3    2021-03-16 15:58:33      matteorenzi   \n",
      "4    2021-03-18 17:15:53   robertoburioni   \n",
      "5    2021-03-11 14:31:54   robertoburioni   \n",
      "6    2021-03-13 13:03:03   robertoburioni   \n",
      "7    2021-03-04 14:23:59   francescocosta   \n",
      "8    2021-03-13 18:55:24  alanelettronico   \n",
      "9    2021-03-16 16:53:00       catlatorre   \n",
      "10   2021-03-15 17:44:24     simonespetia   \n",
      "11   2021-03-12 13:13:12      mantinirita   \n",
      "12   2021-03-17 13:37:35   robertoburioni   \n",
      "13   2021-03-16 07:54:29  antonellaviol17   \n",
      "14   2021-03-11 20:42:39    claudiocerasa   \n",
      "15   2021-03-16 14:03:22  stanzaselvaggia   \n",
      "16   2021-03-29 16:14:47   robertoburioni   \n",
      "17   2021-03-10 09:17:09         fdragoni   \n",
      "18   2021-03-17 12:54:17    claudiocerasa   \n",
      "19   2021-03-18 17:08:56   robertoburioni   \n",
      "20   2021-03-14 19:42:44   aifa_ufficiale   \n",
      "22   2021-03-01 23:32:47    lucianocapone   \n",
      "23   2021-03-05 19:27:37  lucianobarracar   \n",
      "24   2021-03-17 22:28:38   robertoburioni   \n",
      "25   2021-03-22 12:50:04    cartabellotta   \n",
      "26   2021-03-16 15:29:04   micdoingthings   \n",
      "28   2021-03-11 17:52:47     fulviopaglia   \n",
      "29   2021-03-11 13:07:42  gianfrancofeeni   \n",
      "30   2021-03-16 15:14:21      anikeatable   \n",
      "31   2021-03-15 19:45:25         monacelt   \n",
      "32   2021-03-14 07:25:36    rigoli_rigoli   \n",
      "33   2021-03-15 17:59:00        lukeskiva   \n",
      "34   2021-03-18 17:54:20         mafronte   \n",
      "35   2021-03-13 09:03:30    giacomogorini   \n",
      "36   2021-03-17 05:02:59          _zoo_q_   \n",
      "37   2021-03-12 15:59:57   federicovizo87   \n",
      "38   2021-03-27 14:35:31    ignaziomarino   \n",
      "39   2021-03-21 09:30:08          pbecchi   \n",
      "40   2021-03-19 14:43:54      liutogiusto   \n",
      "42   2021-03-28 15:28:09      radiosavana   \n",
      "43   2021-03-26 17:01:30    cartabellotta   \n",
      "46   2021-03-09 13:36:28      bluefidel47   \n",
      "48   2021-03-17 19:30:59       laviniablr   \n",
      "50   2021-03-10 16:59:36      francedrago   \n",
      "53   2021-03-21 11:15:21        imolaoggi   \n",
      "54   2021-03-27 09:09:40    cartabellotta   \n",
      "57   2021-03-29 14:31:03      mzampedroni   \n",
      "59   2021-03-22 11:13:33       doluccia16   \n",
      "64   2021-03-22 21:32:25  alessandrocere7   \n",
      "77   2021-03-13 08:33:36          fmmosca   \n",
      "86   2021-03-11 20:34:42      sabrina__sf   \n",
      "91   2021-03-12 06:42:09       doluccia16   \n",
      "93   2021-03-11 12:47:35      davcarretta   \n",
      "94   2021-03-14 08:56:18   minutemanitaly   \n",
      "107  2021-03-16 15:27:42         lordfed3   \n",
      "119  2021-03-30 20:33:12       doluccia16   \n",
      "122  2021-03-08 21:47:24          eziamor   \n",
      "137  2021-03-09 19:48:50    andiamoviaora   \n",
      "153  2021-03-25 08:29:32   simabastaroghi   \n",
      "159  2021-03-07 13:59:07         gzibordi   \n",
      "180  2021-03-17 11:44:44  boni_castellane   \n",
      "\n",
      "                                                 tweet  label  predicted  \n",
      "0    io ho 58 anni e sto bene corna se prendo covid...      1          0  \n",
      "1    i numeri 20 milioni di vaccini astrazeneca fat...      1          1  \n",
      "3    oggi le autopsie hanno dimostrato che nessuno ...      1          1  \n",
      "4    ema le trombosi cerebrali potrebbero essere le...      1          2  \n",
      "5    fantastica notizia ema ha approvato il vaccino...      1          1  \n",
      "6    molti sostengono che i vaccini impediscano la ...      1          0  \n",
      "7    temo che molti non abbiano chiaro cosa signifi...      2          1  \n",
      "8    30 morti per trombosi su milioni di dosi epide...      2          1  \n",
      "9    il maestro morto a biella qualche giorno fa do...      1          0  \n",
      "10   non c e prova di nesso causale tra morti e vac...      2          0  \n",
      "11   il mio vaccino e confermato per domani astraze...      1          2  \n",
      "12   israele ha pagato i vaccini pfizer intorno a 2...      2          2  \n",
      "13   chi ha fatto il vaccino astrazeneca nei giorni...      2          0  \n",
      "14   il pm che indaga sulla morte del militare mort...      1          0  \n",
      "15   ora la questione e se ogni volta che muore qua...      2          2  \n",
      "16   buone notizie 1 appena uscito un lavoro su nat...      1          1  \n",
      "17   l anno scorso lockdown perche c era un virus e...      2          0  \n",
      "18   la societa italiana studio emostasi trombosi r...      1          0  \n",
      "19   ema il vaccino astrazeneca e efficace sicuro e...      1          1  \n",
      "20   ingiustificato allarme sulla sicurezza del vac...      1          1  \n",
      "22   nel mondo ci sono 12 vaccini approvati in euro...      2          1  \n",
      "23   possiamo star certi che se l italia fosse stat...      2          2  \n",
      "24   ottime notizie appena uscito su nejm in un mod...      1          1  \n",
      "25   cortese richiesta a regioni e aziende sanitari...      2          1  \n",
      "26    vaccinatevi che io devo fra grazie al cazzo n...      1          1  \n",
      "28   ma i giornalisti che stanno alimentando la psi...      2          0  \n",
      "29   se fosse possibile lascerei il mio vaccino ad ...      1          1  \n",
      "30   quando dicono non hai paura di avere una tromb...      2          2  \n",
      "31   possiamo per cortesia darci una calmata in que...      2          0  \n",
      "32    ma siete seri una persona ha un emorragia cel...      2          0  \n",
      "33   volete guardare i numeri guardate quelli della...      2          1  \n",
      "34   la farmacosorveglianza serve a individuare eve...      2          0  \n",
      "35   avevo espresso al preside il desiderio di non ...      2          2  \n",
      "36   ho un amico stronzo in meridione dove hanno pi...      0          0  \n",
      "37   30 casi di trombosi su 5 milioni di somministr...      2          2  \n",
      "38   da medico e ricercatore credo fortemente che n...      1          1  \n",
      "39   speranza ha sbagliato tutto nella gestione del...      2          1  \n",
      "40   ps con quanto sopra non intendo convincere nes...      2          1  \n",
      "42   palermo cinzia professoressa 46enne morta per ...      0          0  \n",
      "43   vicini a 250 mila somministrazioni di vaccino ...      1          1  \n",
      "46   piu lockdown piu vaccinazioni di massa ho sent...      0          0  \n",
      "48    il vaccino dura 5 mesi se un vaccinato incont...      0          1  \n",
      "50   poco fa in 1 minuto ho prenotato il vaccino pe...      1          1  \n",
      "53   astrazeneca i ricercatori norvegesi scoprono i...      0          2  \n",
      "54   si consolidano prove di efficacia vaccino negl...      1          0  \n",
      "57   ieri sera da giletti con scenografia pro vacci...      0          0  \n",
      "59   comunque mio cognato medico non si e ancora fa...      0          0  \n",
      "64   uno studente di 24 anni e stato trovato morto ...      0          2  \n",
      "77   la sardegna ne e uscita proprio perche e senza...      0          0  \n",
      "86    7 paesi sospendono la somministrazione del va...      0          2  \n",
      "91   ah ecco su tutte le dosi di vaccino astrazenec...      0          2  \n",
      "93   l ema dice che i casi di trombosi per vaccino ...      0          2  \n",
      "94   occhio carabinieri in panico continuano a perv...      0          1  \n",
      "107  il 9 marzo scorso e morta una professoressa di...      0          2  \n",
      "119  signora palombella ma non si vergogna di spons...      0          2  \n",
      "122  quartarepubblica perche continuo a non fidarmi...      0          0  \n",
      "137  file di camion militari con le bare file di ca...      0          2  \n",
      "153   trombosi all aorta iliaca alla vena porta all...      0          1  \n",
      "159  infermiera morta subito il vaccino astra zenec...      0          1  \n",
      "180  segnalo trombosi conoscente 83 anni 24 ore dop...      0          0  \n"
     ]
    }
   ],
   "source": [
    "print(test_set)"
   ]
  },
  {
   "cell_type": "code",
   "execution_count": 31,
   "metadata": {},
   "outputs": [
    {
     "name": "stdout",
     "output_type": "stream",
     "text": [
      "accuracy : 0.4666666666666667\n",
      "f_score : 0.4460563077584354\n",
      "\n",
      "[[14  3  3]\n",
      " [ 4 10  6]\n",
      " [ 9  7  4]]\n",
      "Precision,Recall,f_score\n",
      " Classe 0:  [0.51851852 0.5        0.30769231] \n",
      " Classe 1:  [0.7 0.5 0.2] \n",
      " Classe 2:  [0.59574468 0.5        0.24242424] \n",
      " Support:   [20 20 20]\n"
     ]
    }
   ],
   "source": [
    "#Benchmark new model\n",
    "benchmark(test_set[\"label\"], test_set[\"predicted\"])"
   ]
  },
  {
   "cell_type": "code",
   "execution_count": 4,
   "metadata": {},
   "outputs": [],
   "source": [
    "#Load old model\n",
    "clf2 = joblib.load('InitialModel.pkl')"
   ]
  },
  {
   "cell_type": "code",
   "execution_count": 6,
   "metadata": {},
   "outputs": [],
   "source": [
    "#Do classification with old model\n",
    "test_set[\"predicted_old\"]= clf2.predict(test_set.tweet)"
   ]
  },
  {
   "cell_type": "code",
   "execution_count": 7,
   "metadata": {},
   "outputs": [
    {
     "name": "stdout",
     "output_type": "stream",
     "text": [
      "0      2\n",
      "1      1\n",
      "3      2\n",
      "4      1\n",
      "5      2\n",
      "6      2\n",
      "7      2\n",
      "8      2\n",
      "9      2\n",
      "10     2\n",
      "11     2\n",
      "12     2\n",
      "13     2\n",
      "14     2\n",
      "15     2\n",
      "16     2\n",
      "17     2\n",
      "18     2\n",
      "19     2\n",
      "20     2\n",
      "22     2\n",
      "23     2\n",
      "24     2\n",
      "25     2\n",
      "26     2\n",
      "28     2\n",
      "29     2\n",
      "30     2\n",
      "31     2\n",
      "32     2\n",
      "33     2\n",
      "34     2\n",
      "35     2\n",
      "36     2\n",
      "37     2\n",
      "38     2\n",
      "39     2\n",
      "40     0\n",
      "42     2\n",
      "43     2\n",
      "46     2\n",
      "48     2\n",
      "50     2\n",
      "53     2\n",
      "54     2\n",
      "57     2\n",
      "59     2\n",
      "64     2\n",
      "77     2\n",
      "86     2\n",
      "91     2\n",
      "93     2\n",
      "94     2\n",
      "107    2\n",
      "119    2\n",
      "122    2\n",
      "137    2\n",
      "153    2\n",
      "159    2\n",
      "180    2\n",
      "Name: predicted_old, dtype: object\n"
     ]
    }
   ],
   "source": [
    "print(test_set[\"predicted_old\"])"
   ]
  },
  {
   "cell_type": "code",
   "execution_count": 8,
   "metadata": {},
   "outputs": [
    {
     "name": "stdout",
     "output_type": "stream",
     "text": [
      "               timestamp         username  \\\n",
      "0    2021-03-18 17:40:12   robertoburioni   \n",
      "1    2021-03-18 19:25:57  gassmangassmann   \n",
      "3    2021-03-16 15:58:33      matteorenzi   \n",
      "4    2021-03-18 17:15:53   robertoburioni   \n",
      "5    2021-03-11 14:31:54   robertoburioni   \n",
      "6    2021-03-13 13:03:03   robertoburioni   \n",
      "7    2021-03-04 14:23:59   francescocosta   \n",
      "8    2021-03-13 18:55:24  alanelettronico   \n",
      "9    2021-03-16 16:53:00       catlatorre   \n",
      "10   2021-03-15 17:44:24     simonespetia   \n",
      "11   2021-03-12 13:13:12      mantinirita   \n",
      "12   2021-03-17 13:37:35   robertoburioni   \n",
      "13   2021-03-16 07:54:29  antonellaviol17   \n",
      "14   2021-03-11 20:42:39    claudiocerasa   \n",
      "15   2021-03-16 14:03:22  stanzaselvaggia   \n",
      "16   2021-03-29 16:14:47   robertoburioni   \n",
      "17   2021-03-10 09:17:09         fdragoni   \n",
      "18   2021-03-17 12:54:17    claudiocerasa   \n",
      "19   2021-03-18 17:08:56   robertoburioni   \n",
      "20   2021-03-14 19:42:44   aifa_ufficiale   \n",
      "22   2021-03-01 23:32:47    lucianocapone   \n",
      "23   2021-03-05 19:27:37  lucianobarracar   \n",
      "24   2021-03-17 22:28:38   robertoburioni   \n",
      "25   2021-03-22 12:50:04    cartabellotta   \n",
      "26   2021-03-16 15:29:04   micdoingthings   \n",
      "28   2021-03-11 17:52:47     fulviopaglia   \n",
      "29   2021-03-11 13:07:42  gianfrancofeeni   \n",
      "30   2021-03-16 15:14:21      anikeatable   \n",
      "31   2021-03-15 19:45:25         monacelt   \n",
      "32   2021-03-14 07:25:36    rigoli_rigoli   \n",
      "33   2021-03-15 17:59:00        lukeskiva   \n",
      "34   2021-03-18 17:54:20         mafronte   \n",
      "35   2021-03-13 09:03:30    giacomogorini   \n",
      "36   2021-03-17 05:02:59          _zoo_q_   \n",
      "37   2021-03-12 15:59:57   federicovizo87   \n",
      "38   2021-03-27 14:35:31    ignaziomarino   \n",
      "39   2021-03-21 09:30:08          pbecchi   \n",
      "40   2021-03-19 14:43:54      liutogiusto   \n",
      "42   2021-03-28 15:28:09      radiosavana   \n",
      "43   2021-03-26 17:01:30    cartabellotta   \n",
      "46   2021-03-09 13:36:28      bluefidel47   \n",
      "48   2021-03-17 19:30:59       laviniablr   \n",
      "50   2021-03-10 16:59:36      francedrago   \n",
      "53   2021-03-21 11:15:21        imolaoggi   \n",
      "54   2021-03-27 09:09:40    cartabellotta   \n",
      "57   2021-03-29 14:31:03      mzampedroni   \n",
      "59   2021-03-22 11:13:33       doluccia16   \n",
      "64   2021-03-22 21:32:25  alessandrocere7   \n",
      "77   2021-03-13 08:33:36          fmmosca   \n",
      "86   2021-03-11 20:34:42      sabrina__sf   \n",
      "91   2021-03-12 06:42:09       doluccia16   \n",
      "93   2021-03-11 12:47:35      davcarretta   \n",
      "94   2021-03-14 08:56:18   minutemanitaly   \n",
      "107  2021-03-16 15:27:42         lordfed3   \n",
      "119  2021-03-30 20:33:12       doluccia16   \n",
      "122  2021-03-08 21:47:24          eziamor   \n",
      "137  2021-03-09 19:48:50    andiamoviaora   \n",
      "153  2021-03-25 08:29:32   simabastaroghi   \n",
      "159  2021-03-07 13:59:07         gzibordi   \n",
      "180  2021-03-17 11:44:44  boni_castellane   \n",
      "\n",
      "                                                 tweet  label predicted_old  \n",
      "0    io ho 58 anni e sto bene corna se prendo covid...      1             2  \n",
      "1    i numeri 20 milioni di vaccini astrazeneca fat...      1             1  \n",
      "3    oggi le autopsie hanno dimostrato che nessuno ...      1             2  \n",
      "4    ema le trombosi cerebrali potrebbero essere le...      1             1  \n",
      "5    fantastica notizia ema ha approvato il vaccino...      1             2  \n",
      "6    molti sostengono che i vaccini impediscano la ...      1             2  \n",
      "7    temo che molti non abbiano chiaro cosa signifi...      2             2  \n",
      "8    30 morti per trombosi su milioni di dosi epide...      2             2  \n",
      "9    il maestro morto a biella qualche giorno fa do...      1             2  \n",
      "10   non c e prova di nesso causale tra morti e vac...      2             2  \n",
      "11   il mio vaccino e confermato per domani astraze...      1             2  \n",
      "12   israele ha pagato i vaccini pfizer intorno a 2...      2             2  \n",
      "13   chi ha fatto il vaccino astrazeneca nei giorni...      2             2  \n",
      "14   il pm che indaga sulla morte del militare mort...      1             2  \n",
      "15   ora la questione e se ogni volta che muore qua...      2             2  \n",
      "16   buone notizie 1 appena uscito un lavoro su nat...      1             2  \n",
      "17   l anno scorso lockdown perche c era un virus e...      2             2  \n",
      "18   la societa italiana studio emostasi trombosi r...      1             2  \n",
      "19   ema il vaccino astrazeneca e efficace sicuro e...      1             2  \n",
      "20   ingiustificato allarme sulla sicurezza del vac...      1             2  \n",
      "22   nel mondo ci sono 12 vaccini approvati in euro...      2             2  \n",
      "23   possiamo star certi che se l italia fosse stat...      2             2  \n",
      "24   ottime notizie appena uscito su nejm in un mod...      1             2  \n",
      "25   cortese richiesta a regioni e aziende sanitari...      2             2  \n",
      "26    vaccinatevi che io devo fra grazie al cazzo n...      1             2  \n",
      "28   ma i giornalisti che stanno alimentando la psi...      2             2  \n",
      "29   se fosse possibile lascerei il mio vaccino ad ...      1             2  \n",
      "30   quando dicono non hai paura di avere una tromb...      2             2  \n",
      "31   possiamo per cortesia darci una calmata in que...      2             2  \n",
      "32    ma siete seri una persona ha un emorragia cel...      2             2  \n",
      "33   volete guardare i numeri guardate quelli della...      2             2  \n",
      "34   la farmacosorveglianza serve a individuare eve...      2             2  \n",
      "35   avevo espresso al preside il desiderio di non ...      2             2  \n",
      "36   ho un amico stronzo in meridione dove hanno pi...      0             2  \n",
      "37   30 casi di trombosi su 5 milioni di somministr...      2             2  \n",
      "38   da medico e ricercatore credo fortemente che n...      1             2  \n",
      "39   speranza ha sbagliato tutto nella gestione del...      2             2  \n",
      "40   ps con quanto sopra non intendo convincere nes...      2             0  \n",
      "42   palermo cinzia professoressa 46enne morta per ...      0             2  \n",
      "43   vicini a 250 mila somministrazioni di vaccino ...      1             2  \n",
      "46   piu lockdown piu vaccinazioni di massa ho sent...      0             2  \n",
      "48    il vaccino dura 5 mesi se un vaccinato incont...      0             2  \n",
      "50   poco fa in 1 minuto ho prenotato il vaccino pe...      1             2  \n",
      "53   astrazeneca i ricercatori norvegesi scoprono i...      0             2  \n",
      "54   si consolidano prove di efficacia vaccino negl...      1             2  \n",
      "57   ieri sera da giletti con scenografia pro vacci...      0             2  \n",
      "59   comunque mio cognato medico non si e ancora fa...      0             2  \n",
      "64   uno studente di 24 anni e stato trovato morto ...      0             2  \n",
      "77   la sardegna ne e uscita proprio perche e senza...      0             2  \n",
      "86    7 paesi sospendono la somministrazione del va...      0             2  \n",
      "91   ah ecco su tutte le dosi di vaccino astrazenec...      0             2  \n",
      "93   l ema dice che i casi di trombosi per vaccino ...      0             2  \n",
      "94   occhio carabinieri in panico continuano a perv...      0             2  \n",
      "107  il 9 marzo scorso e morta una professoressa di...      0             2  \n",
      "119  signora palombella ma non si vergogna di spons...      0             2  \n",
      "122  quartarepubblica perche continuo a non fidarmi...      0             2  \n",
      "137  file di camion militari con le bare file di ca...      0             2  \n",
      "153   trombosi all aorta iliaca alla vena porta all...      0             2  \n",
      "159  infermiera morta subito il vaccino astra zenec...      0             2  \n",
      "180  segnalo trombosi conoscente 83 anni 24 ore dop...      0             2  \n"
     ]
    }
   ],
   "source": [
    "test_set.predicted_old=test_set.label.astype(int)\n",
    "print(test_set)"
   ]
  },
  {
   "cell_type": "code",
   "execution_count": 10,
   "metadata": {},
   "outputs": [
    {
     "name": "stdout",
     "output_type": "stream",
     "text": [
      "accuracy : 0.35\n",
      "f_score : 0.22510822510822512\n",
      "\n",
      "[[ 0  0 20]\n",
      " [ 0  2 18]\n",
      " [ 1  0 19]]\n",
      "Precision,Recall,f_score\n",
      " Classe 0:  [0.         1.         0.33333333] \n",
      " Classe 1:  [0.   0.1  0.95] \n",
      " Classe 2:  [0.         0.18181818 0.49350649] \n",
      " Support:   [20 20 20]\n"
     ]
    }
   ],
   "source": [
    "benchmark(test_set[\"label\"].astype(int), test_set[\"predicted_old\"].astype(int))"
   ]
  },
  {
   "cell_type": "code",
   "execution_count": null,
   "metadata": {},
   "outputs": [],
   "source": [
    "\n",
    "\n",
    "\n",
    "\n"
   ]
  }
 ],
 "metadata": {
  "kernelspec": {
   "display_name": "Python 3",
   "language": "python",
   "name": "python3"
  },
  "language_info": {
   "codemirror_mode": {
    "name": "ipython",
    "version": 3
   },
   "file_extension": ".py",
   "mimetype": "text/x-python",
   "name": "python",
   "nbconvert_exporter": "python",
   "pygments_lexer": "ipython3",
   "version": "3.8.5"
  }
 },
 "nbformat": 4,
 "nbformat_minor": 4
}
