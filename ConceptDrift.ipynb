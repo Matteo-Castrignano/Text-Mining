{
 "cells": [
  {
   "cell_type": "code",
   "execution_count": 1,
   "metadata": {},
   "outputs": [],
   "source": [
    "from ipynb.fs.full.UtilitiesConceptDrift import *"
   ]
  },
  {
   "cell_type": "code",
   "execution_count": 2,
   "metadata": {},
   "outputs": [
    {
     "name": "stdout",
     "output_type": "stream",
     "text": [
      "Number of tweets in the dataset: 33602\n"
     ]
    }
   ],
   "source": [
    "# code for loading the entire dataset\n",
    "dataset = OpenDataset(\"FullDataset.csv\")\n",
    "print(f\"Number of tweets in the dataset: {len(dataset)}\")"
   ]
  },
  {
   "cell_type": "code",
   "execution_count": 3,
   "metadata": {},
   "outputs": [],
   "source": [
    "# load the initial classifier\n",
    "clf_init = joblib.load('InitialModel.pkl')"
   ]
  },
  {
   "cell_type": "code",
   "execution_count": 3,
   "metadata": {},
   "outputs": [],
   "source": [
    "# code for saving the new labelled tweets\n",
    "# # test_set = test_set.sort_values(by=['likes_count'], ascending=False)\n",
    "# data = search_tweet_Period(dataset, \"2021-04-01\", \"2021-04-30\")\n",
    "# data.to_csv(\"ConceptDriftAprile.csv\")"
   ]
  },
  {
   "cell_type": "code",
   "execution_count": 4,
   "metadata": {},
   "outputs": [
    {
     "name": "stdout",
     "output_type": "stream",
     "text": [
      "Number of tweets in training_febbraio: 60\n",
      "Number of tweets in training_marzo: 60\n",
      "Number of tweets in training_aprile: 60\n"
     ]
    }
   ],
   "source": [
    "# code for loading labelled data\n",
    "training_febbraio = pd.read_csv(\"ConceptDriftFebbraio.csv\",sep=',',usecols=['timestamp','username','tweet','label'])\n",
    "training_febbraio = training_febbraio.dropna()\n",
    "\n",
    "training_marzo = pd.read_csv(\"ConceptDriftMarzo.csv\",sep=',',usecols=['timestamp','username','tweet','label'])\n",
    "training_marzo = training_marzo.dropna()\n",
    "\n",
    "training_aprile = pd.read_csv(\"ConceptDriftAprile.csv\",sep=',',usecols=['timestamp','username','tweet','label'])\n",
    "training_aprile = training_aprile.dropna()\n",
    "\n",
    "training_initial = pd.read_csv(\"training_set.csv\",sep=',',usecols=['timestamp','username','tweet','label'])\n",
    "\n",
    "print(f\"Number of tweets in training_febbraio: {len(training_febbraio)}\")\n",
    "print(f\"Number of tweets in training_marzo: {len(training_marzo)}\")\n",
    "print(f\"Number of tweets in training_aprile: {len(training_aprile)}\")"
   ]
  },
  {
   "cell_type": "code",
   "execution_count": 5,
   "metadata": {},
   "outputs": [
    {
     "name": "stdout",
     "output_type": "stream",
     "text": [
      "Number of tweets in training_init_feb: 966\n",
      "Number of tweets in training_init_feb_mar: 1026\n"
     ]
    }
   ],
   "source": [
    "# Merge the all the data\n",
    "training_init_feb = pd.concat([training_initial,training_febbraio])\n",
    "training_init_feb_mar = pd.concat([training_init_feb,training_marzo])\n",
    "#new_trainin_set.label=new_trainin_set.label.astype(int)\n",
    "\n",
    "print(f\"Number of tweets in training_init_feb: {len(training_init_feb)}\")\n",
    "print(f\"Number of tweets in training_init_feb_mar: {len(training_init_feb_mar)}\")"
   ]
  },
  {
   "cell_type": "code",
   "execution_count": 6,
   "metadata": {},
   "outputs": [
    {
     "data": {
      "text/plain": [
       "Pipeline(steps=[('vect',\n",
       "                 StemmedCountVectorizer(min_df=3,\n",
       "                                        stop_words={'a', 'abbia', 'abbiamo',\n",
       "                                                    'abbiano', 'abbiate', 'ad',\n",
       "                                                    'agl', 'agli', 'ai', 'al',\n",
       "                                                    'all', 'alla', 'alle',\n",
       "                                                    'allo', 'anche', 'avemmo',\n",
       "                                                    'avendo', 'avesse',\n",
       "                                                    'avessero', 'avessi',\n",
       "                                                    'avessimo', 'aveste',\n",
       "                                                    'avesti', 'avete', 'aveva',\n",
       "                                                    'avevamo', 'avevano',\n",
       "                                                    'avevate', 'avevi', 'avevo', ...})),\n",
       "                ('tfidf', TfidfTransformer()), ('clf', BernoulliNB())])"
      ]
     },
     "execution_count": 6,
     "metadata": {},
     "output_type": "execute_result"
    }
   ],
   "source": [
    "# Training the model with training_init_feb\n",
    "clf_feb = Pipeline([\n",
    "    ('vect', StemmedCountVectorizer(min_df=3, analyzer=\"word\", stop_words = set(stopwords.words('italian')), ngram_range = (1,1))),\n",
    "    ('tfidf', TfidfTransformer(smooth_idf=True,use_idf=True)),\n",
    "    ('clf',BernoulliNB()),\n",
    "])\n",
    "clf_feb.fit(training_init_feb.tweet, training_init_feb.label)"
   ]
  },
  {
   "cell_type": "code",
   "execution_count": 7,
   "metadata": {},
   "outputs": [
    {
     "data": {
      "text/plain": [
       "Pipeline(steps=[('vect',\n",
       "                 StemmedCountVectorizer(min_df=3,\n",
       "                                        stop_words={'a', 'abbia', 'abbiamo',\n",
       "                                                    'abbiano', 'abbiate', 'ad',\n",
       "                                                    'agl', 'agli', 'ai', 'al',\n",
       "                                                    'all', 'alla', 'alle',\n",
       "                                                    'allo', 'anche', 'avemmo',\n",
       "                                                    'avendo', 'avesse',\n",
       "                                                    'avessero', 'avessi',\n",
       "                                                    'avessimo', 'aveste',\n",
       "                                                    'avesti', 'avete', 'aveva',\n",
       "                                                    'avevamo', 'avevano',\n",
       "                                                    'avevate', 'avevi', 'avevo', ...})),\n",
       "                ('tfidf', TfidfTransformer()), ('clf', BernoulliNB())])"
      ]
     },
     "execution_count": 7,
     "metadata": {},
     "output_type": "execute_result"
    }
   ],
   "source": [
    "# Training the model with training_init_feb_mar\n",
    "clf_mar = Pipeline([\n",
    "    ('vect', StemmedCountVectorizer(min_df=3, analyzer=\"word\", stop_words = set(stopwords.words('italian')), ngram_range = (1,1))),\n",
    "    ('tfidf', TfidfTransformer(smooth_idf=True,use_idf=True)),\n",
    "    ('clf',BernoulliNB()),\n",
    "])\n",
    "clf_mar.fit(training_init_feb_mar.tweet, training_init_feb_mar.label)"
   ]
  },
  {
   "cell_type": "code",
   "execution_count": 13,
   "metadata": {},
   "outputs": [
    {
     "data": {
      "text/plain": [
       "['modelMarzo.pkl']"
      ]
     },
     "execution_count": 13,
     "metadata": {},
     "output_type": "execute_result"
    }
   ],
   "source": [
    "# Save the new models\n",
    "# CAMBIARE IL NOME!!!!!!!!!!!!!\n",
    "# joblib.dump(clf_feb, 'modelFebbraio.pkl', compress=9)\n",
    "# joblib.dump(clf_mar, 'modelMarzo.pkl', compress=9)"
   ]
  },
  {
   "cell_type": "code",
   "execution_count": 9,
   "metadata": {
    "scrolled": true
   },
   "outputs": [
    {
     "name": "stdout",
     "output_type": "stream",
     "text": [
      "accuracy : 0.35\n",
      "f_score : 0.22510822510822512\n",
      "\n",
      "[[ 0  0 20]\n",
      " [ 0  2 18]\n",
      " [ 1  0 19]]\n",
      "Precision,Recall,f_score\n",
      " Classe 0:  [0.         1.         0.33333333] \n",
      " Classe 1:  [0.   0.1  0.95] \n",
      " Classe 2:  [0.         0.18181818 0.49350649] \n",
      " Support:   [20 20 20]\n"
     ]
    }
   ],
   "source": [
    "#Do classification with initial model for Marzo\n",
    "training_marzo[\"predicted\"]= clf_init.predict(training_marzo.tweet)\n",
    "#print(training_marzo)\n",
    "benchmark(training_marzo[\"label\"].astype(int), training_marzo[\"predicted\"].astype(int))"
   ]
  },
  {
   "cell_type": "code",
   "execution_count": 10,
   "metadata": {},
   "outputs": [
    {
     "name": "stdout",
     "output_type": "stream",
     "text": [
      "accuracy : 0.31666666666666665\n",
      "f_score : 0.16033755274261602\n",
      "\n",
      "[[ 0  0 20]\n",
      " [ 0  0 20]\n",
      " [ 0  1 19]]\n",
      "Precision,Recall,f_score\n",
      " Classe 0:  [0.        0.        0.3220339] \n",
      " Classe 1:  [0.   0.   0.95] \n",
      " Classe 2:  [0.         0.         0.48101266] \n",
      " Support:   [20 20 20]\n"
     ]
    },
    {
     "name": "stderr",
     "output_type": "stream",
     "text": [
      "C:\\ProgramData\\Anaconda\\lib\\site-packages\\sklearn\\metrics\\_classification.py:1221: UndefinedMetricWarning: Precision and F-score are ill-defined and being set to 0.0 in labels with no predicted samples. Use `zero_division` parameter to control this behavior.\n",
      "  _warn_prf(average, modifier, msg_start, len(result))\n"
     ]
    }
   ],
   "source": [
    "#Do classification with initial model for Aprile\n",
    "training_aprile[\"predicted\"]= clf_init.predict(training_aprile.tweet)\n",
    "#print(training_aprile)\n",
    "benchmark(training_aprile[\"label\"].astype(int), training_aprile[\"predicted\"].astype(int))"
   ]
  },
  {
   "cell_type": "code",
   "execution_count": 24,
   "metadata": {},
   "outputs": [
    {
     "name": "stdout",
     "output_type": "stream",
     "text": [
      "accuracy : 0.45\n",
      "f_score : 0.4425837320574162\n",
      "\n",
      "[[ 7  4  9]\n",
      " [ 5 13  2]\n",
      " [ 6  7  7]]\n",
      "Precision,Recall,f_score\n",
      " Classe 0:  [0.38888889 0.54166667 0.38888889] \n",
      " Classe 1:  [0.35 0.65 0.35] \n",
      " Classe 2:  [0.36842105 0.59090909 0.36842105] \n",
      " Support:   [20 20 20]\n"
     ]
    }
   ],
   "source": [
    "#Do classification with modelFebbraio.pkl for Marzo\n",
    "predicted = clf_feb.predict(training_marzo.tweet)\n",
    "benchmark(training_marzo[\"label\"].astype(int), predicted.astype(int))"
   ]
  },
  {
   "cell_type": "code",
   "execution_count": 25,
   "metadata": {},
   "outputs": [
    {
     "name": "stdout",
     "output_type": "stream",
     "text": [
      "accuracy : 0.5166666666666667\n",
      "f_score : 0.5017050298380221\n",
      "\n",
      "[[15  3  2]\n",
      " [ 4 10  6]\n",
      " [ 7  7  6]]\n",
      "Precision,Recall,f_score\n",
      " Classe 0:  [0.57692308 0.5        0.42857143] \n",
      " Classe 1:  [0.75 0.5  0.3 ] \n",
      " Classe 2:  [0.65217391 0.5        0.35294118] \n",
      " Support:   [20 20 20]\n"
     ]
    }
   ],
   "source": [
    "#Do classification with modelMarzo.pkl for Aprile\n",
    "predicted = clf_mar.predict(training_aprile.tweet)\n",
    "benchmark(training_aprile[\"label\"].astype(int), predicted.astype(int))"
   ]
  },
  {
   "cell_type": "code",
   "execution_count": null,
   "metadata": {},
   "outputs": [],
   "source": []
  }
 ],
 "metadata": {
  "kernelspec": {
   "display_name": "Python 3",
   "language": "python",
   "name": "python3"
  },
  "language_info": {
   "codemirror_mode": {
    "name": "ipython",
    "version": 3
   },
   "file_extension": ".py",
   "mimetype": "text/x-python",
   "name": "python",
   "nbconvert_exporter": "python",
   "pygments_lexer": "ipython3",
   "version": "3.8.5"
  }
 },
 "nbformat": 4,
 "nbformat_minor": 4
}
