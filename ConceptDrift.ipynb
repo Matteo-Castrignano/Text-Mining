{
 "cells": [
  {
   "cell_type": "code",
   "execution_count": 1,
   "metadata": {},
   "outputs": [],
   "source": [
    "from ipynb.fs.full.UtilitiesConceptDrift import *"
   ]
  },
  {
   "cell_type": "code",
   "execution_count": 2,
   "metadata": {},
   "outputs": [
    {
     "name": "stdout",
     "output_type": "stream",
     "text": [
      "Number of tweets: 33602\n"
     ]
    }
   ],
   "source": [
    "test_set = OpenDataset(\"FullDataset.csv\")\n",
    "print(f\"Number of tweets: {len(test_set)}\")"
   ]
  },
  {
   "cell_type": "code",
   "execution_count": 25,
   "metadata": {},
   "outputs": [],
   "source": [
    "test_set = test_set.sort_values(by=['likes_count'], ascending=False)"
   ]
  },
  {
   "cell_type": "code",
   "execution_count": 30,
   "metadata": {},
   "outputs": [],
   "source": [
    "data = search_tweet_Period(test_set, \"2021-02-01\", \"2021-02-28\").copy()"
   ]
  },
  {
   "cell_type": "code",
   "execution_count": 31,
   "metadata": {},
   "outputs": [],
   "source": [
    "data.to_csv(\"ConceptDriftFebbraio.csv\")"
   ]
  },
  {
   "cell_type": "code",
   "execution_count": null,
   "metadata": {},
   "outputs": [],
   "source": [
    "#Do classification by hand"
   ]
  },
  {
   "cell_type": "code",
   "execution_count": 6,
   "metadata": {},
   "outputs": [],
   "source": [
    "#Reload data\n",
    "data = pd.read_csv(\"ConceptDriftFebbraio.csv\",sep=',',usecols=['timestamp','username','tweet','label'])\n",
    "data=data.dropna()\n",
    "training_set = pd.read_csv(\"training_set.csv\",sep=',',usecols=['timestamp','username','tweet','label'])"
   ]
  },
  {
   "cell_type": "code",
   "execution_count": 7,
   "metadata": {},
   "outputs": [],
   "source": [
    "#Merge the all the data\n",
    "new_trainin_set = pd.concat([training_set,data])\n",
    "new_trainin_set.label=new_trainin_set.label.astype(int)"
   ]
  },
  {
   "cell_type": "code",
   "execution_count": 3,
   "metadata": {},
   "outputs": [],
   "source": [
    "#print(new_trainin_set)\n",
    "#print(f\"Number of tweets: {len(new_trainin_set)}\")"
   ]
  },
  {
   "cell_type": "code",
   "execution_count": 9,
   "metadata": {},
   "outputs": [
    {
     "data": {
      "text/plain": [
       "Pipeline(steps=[('vect',\n",
       "                 StemmedCountVectorizer(min_df=3,\n",
       "                                        stop_words={'a', 'abbia', 'abbiamo',\n",
       "                                                    'abbiano', 'abbiate', 'ad',\n",
       "                                                    'agl', 'agli', 'ai', 'al',\n",
       "                                                    'all', 'alla', 'alle',\n",
       "                                                    'allo', 'anche', 'avemmo',\n",
       "                                                    'avendo', 'avesse',\n",
       "                                                    'avessero', 'avessi',\n",
       "                                                    'avessimo', 'aveste',\n",
       "                                                    'avesti', 'avete', 'aveva',\n",
       "                                                    'avevamo', 'avevano',\n",
       "                                                    'avevate', 'avevi', 'avevo', ...})),\n",
       "                ('tfidf', TfidfTransformer()), ('clf', BernoulliNB())])"
      ]
     },
     "execution_count": 9,
     "metadata": {},
     "output_type": "execute_result"
    }
   ],
   "source": [
    "#Training the model\n",
    "clf = Pipeline([\n",
    "    ('vect', StemmedCountVectorizer(min_df=3, analyzer=\"word\", stop_words = set(stopwords.words('italian')), ngram_range = (1,1))),\n",
    "    ('tfidf', TfidfTransformer(smooth_idf=True,use_idf=True)),\n",
    "    ('clf',BernoulliNB()),\n",
    "])\n",
    "clf.fit(new_trainin_set.tweet, new_trainin_set.label)"
   ]
  },
  {
   "cell_type": "code",
   "execution_count": 10,
   "metadata": {},
   "outputs": [
    {
     "data": {
      "text/plain": [
       "['modelFebbraio.pkl']"
      ]
     },
     "execution_count": 10,
     "metadata": {},
     "output_type": "execute_result"
    }
   ],
   "source": [
    "#Save the new model\n",
    "joblib.dump(clf, 'modelFebbraio.pkl', compress=9)"
   ]
  },
  {
   "cell_type": "code",
   "execution_count": 11,
   "metadata": {},
   "outputs": [],
   "source": [
    "#Load next month tweet classified\n",
    "test_set = pd.read_csv(\"ConceptDriftMarzo.csv\",sep=',',usecols=['timestamp','username','tweet','label'])\n",
    "test_set = test_set.dropna()\n",
    "test_set.label=test_set.label.astype(int)"
   ]
  },
  {
   "cell_type": "code",
   "execution_count": 29,
   "metadata": {},
   "outputs": [],
   "source": [
    "#print(test_set)\n",
    "#print(f\"Number of tweets: {len(test_set)}\")"
   ]
  },
  {
   "cell_type": "code",
   "execution_count": 13,
   "metadata": {},
   "outputs": [],
   "source": [
    "#Do classification with new model\n",
    "test_set[\"predicted\"]= clf.predict(test_set.tweet)"
   ]
  },
  {
   "cell_type": "code",
   "execution_count": 30,
   "metadata": {},
   "outputs": [],
   "source": [
    "#print(test_set)"
   ]
  },
  {
   "cell_type": "code",
   "execution_count": 27,
   "metadata": {},
   "outputs": [
    {
     "name": "stdout",
     "output_type": "stream",
     "text": [
      "accuracy : 0.45\n",
      "f_score : 0.4425837320574162\n",
      "\n",
      "[[0.35 0.2  0.45]\n",
      " [0.25 0.65 0.1 ]\n",
      " [0.3  0.35 0.35]]\n",
      "Precision,Recall,f_score\n",
      " Classe 0:  [0.38888889 0.54166667 0.38888889] \n",
      " Classe 1:  [0.35 0.65 0.35] \n",
      " Classe 2:  [0.36842105 0.59090909 0.36842105] \n",
      " Support:   [20 20 20]\n"
     ]
    }
   ],
   "source": [
    "#Benchmark new model\n",
    "benchmark(test_set[\"label\"], test_set[\"predicted\"])"
   ]
  },
  {
   "cell_type": "code",
   "execution_count": 17,
   "metadata": {},
   "outputs": [],
   "source": [
    "#Load old model\n",
    "clf2 = joblib.load('InitialModel.pkl')"
   ]
  },
  {
   "cell_type": "code",
   "execution_count": 18,
   "metadata": {},
   "outputs": [],
   "source": [
    "#Do classification with old model\n",
    "test_set[\"predicted_old\"]= clf2.predict(test_set.tweet)"
   ]
  },
  {
   "cell_type": "code",
   "execution_count": 26,
   "metadata": {},
   "outputs": [],
   "source": [
    "test_set.predicted_old=test_set.label.astype(int)\n",
    "#print(test_set)"
   ]
  },
  {
   "cell_type": "code",
   "execution_count": 25,
   "metadata": {},
   "outputs": [
    {
     "name": "stdout",
     "output_type": "stream",
     "text": [
      "accuracy : 1.0\n",
      "f_score : 1.0\n",
      "\n",
      "[[1. 0. 0.]\n",
      " [0. 1. 0.]\n",
      " [0. 0. 1.]]\n",
      "Precision,Recall,f_score\n",
      " Classe 0:  [1. 1. 1.] \n",
      " Classe 1:  [1. 1. 1.] \n",
      " Classe 2:  [1. 1. 1.] \n",
      " Support:   [20 20 20]\n"
     ]
    }
   ],
   "source": [
    "benchmark(test_set[\"label\"], test_set[\"predicted_old\"])"
   ]
  },
  {
   "cell_type": "code",
   "execution_count": null,
   "metadata": {},
   "outputs": [],
   "source": [
    "\n",
    "\n",
    "\n",
    "\n"
   ]
  }
 ],
 "metadata": {
  "kernelspec": {
   "display_name": "Python 3",
   "language": "python",
   "name": "python3"
  },
  "language_info": {
   "codemirror_mode": {
    "name": "ipython",
    "version": 3
   },
   "file_extension": ".py",
   "mimetype": "text/x-python",
   "name": "python",
   "nbconvert_exporter": "python",
   "pygments_lexer": "ipython3",
   "version": "3.8.5"
  }
 },
 "nbformat": 4,
 "nbformat_minor": 4
}
