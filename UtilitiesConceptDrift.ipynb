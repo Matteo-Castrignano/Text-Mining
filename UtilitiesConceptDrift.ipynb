{
 "cells": [
  {
   "cell_type": "code",
   "execution_count": 1,
   "metadata": {},
   "outputs": [],
   "source": [
    "import csv\n",
    "import datetime\n",
    "import matplotlib.pyplot as plt\n",
    "import nltk\n",
    "from time import time\n",
    "import joblib\n",
    "import pandas as pd\n",
    "from sklearn.metrics import classification_report, confusion_matrix\n",
    "from sklearn.model_selection import cross_val_score, cross_val_predict\n",
    "import numpy as np\n",
    "from nltk.corpus import stopwords\n",
    "from nltk.stem import SnowballStemmer\n",
    "from sklearn.ensemble import RandomForestClassifier, AdaBoostClassifier\n",
    "from sklearn.feature_extraction.text import CountVectorizer, TfidfTransformer\n",
    "from sklearn.metrics import plot_confusion_matrix, f1_score\n",
    "from sklearn.model_selection import train_test_split\n",
    "from sklearn.naive_bayes import MultinomialNB, BernoulliNB\n",
    "from sklearn.neighbors import KNeighborsClassifier\n",
    "from sklearn import svm\n",
    "from sklearn import tree\n",
    "from sklearn import metrics\n",
    "from sklearn.pipeline import Pipeline\n",
    "from sklearn.feature_extraction.text import TfidfVectorizer\n",
    "from nltk.corpus import stopwords\n",
    "from sklearn.naive_bayes import MultinomialNB\n",
    "from sklearn.metrics import make_scorer, accuracy_score, precision_score, recall_score, f1_score, precision_recall_fscore_support\n",
    "from sklearn.model_selection import cross_validate\n",
    "pd.set_option('display.max_rows', 10000)"
   ]
  },
  {
   "cell_type": "code",
   "execution_count": 2,
   "metadata": {},
   "outputs": [],
   "source": [
    "#Stemmer\n",
    "italian_stemmer = SnowballStemmer('italian')\n",
    "class StemmedCountVectorizer(CountVectorizer):\n",
    "    def build_analyzer(self):\n",
    "        analyzer = super(StemmedCountVectorizer, self).build_analyzer()\n",
    "        return lambda doc: ([italian_stemmer.stem(w) for w in analyzer(doc)])"
   ]
  },
  {
   "cell_type": "code",
   "execution_count": 3,
   "metadata": {},
   "outputs": [],
   "source": [
    "#Data validation\n",
    "def validate(date_text):\n",
    "    try:\n",
    "        datetime.datetime.strptime(date_text, '%Y-%m-%d')\n",
    "    except ValueError:\n",
    "        raise ValueError(\"Incorrect data format, should be YYYY-MM-DD\")"
   ]
  },
  {
   "cell_type": "code",
   "execution_count": 4,
   "metadata": {},
   "outputs": [],
   "source": [
    "#Benchmark\n",
    "def benchmark(data_label, data_predicted):\n",
    "    accuracy=np.mean(data_predicted == data_label)#accuracy extreaction\n",
    "    print('accuracy : ' + str(accuracy))\n",
    "\n",
    "    f_score = f1_score(data_label, data_predicted, average='macro')\n",
    "    print('f_score : ' + str(f_score) + '\\n')\n",
    "\n",
    "    conf_matrix = confusion_matrix(data_label, data_predicted, labels = [0,1,2], normalize = 'true')\n",
    "    print(conf_matrix)\n",
    "    result = precision_recall_fscore_support(data_label,data_predicted)\n",
    "    print (\"Precision,Recall,f_score\\n\", \n",
    "       \"Classe 0: \", result[0], \"\\n\",\n",
    "       \"Classe 1: \", result[1], \"\\n\",\n",
    "       \"Classe 2: \", result[2], \"\\n\",\n",
    "       \"Support:  \", result[3])"
   ]
  },
  {
   "cell_type": "code",
   "execution_count": 5,
   "metadata": {},
   "outputs": [],
   "source": [
    "def search_tweet_Period(df:pd.DataFrame, start_date = \"2021-02-01\", end_date = \"2021-05-31\"):\n",
    "    \n",
    "    validate(start_date)\n",
    "    validate(end_date)\n",
    "    \n",
    "    return df[(df['timestamp'] > start_date) & (df['timestamp'] < end_date)]"
   ]
  },
  {
   "cell_type": "code",
   "execution_count": 6,
   "metadata": {},
   "outputs": [],
   "source": [
    "def OpenDataset(filename):\n",
    "    #Load data and a short phase of preprocess\n",
    "    test_set = pd.read_csv(filename,sep=',',usecols=['timestamp','username','likes_count','tweet'])\n",
    "    test_set.drop_duplicates(subset=['tweet'])\n",
    "    test_set = test_set.dropna()\n",
    "    \n",
    "    news = []\n",
    "    with open('AccountToDelete.txt') as f:\n",
    "        for line in f:\n",
    "            news.append(line.strip())\n",
    "    \n",
    "    indexNames = test_set[ test_set['username'].isin(news)].index\n",
    "    test_set.drop(indexNames, inplace=True)\n",
    "    \n",
    "    return test_set"
   ]
  },
  {
   "cell_type": "code",
   "execution_count": null,
   "metadata": {},
   "outputs": [],
   "source": []
  }
 ],
 "metadata": {
  "kernelspec": {
   "display_name": "Python 3",
   "language": "python",
   "name": "python3"
  },
  "language_info": {
   "codemirror_mode": {
    "name": "ipython",
    "version": 3
   },
   "file_extension": ".py",
   "mimetype": "text/x-python",
   "name": "python",
   "nbconvert_exporter": "python",
   "pygments_lexer": "ipython3",
   "version": "3.8.5"
  }
 },
 "nbformat": 4,
 "nbformat_minor": 4
}
