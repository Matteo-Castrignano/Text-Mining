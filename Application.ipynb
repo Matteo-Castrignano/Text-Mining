{
 "cells": [
  {
   "cell_type": "code",
   "execution_count": 1,
   "metadata": {},
   "outputs": [],
   "source": [
    "#!pip install ipynb\n",
    "from ipynb.fs.full.Utilities import *"
   ]
  },
  {
   "cell_type": "code",
   "execution_count": 2,
   "metadata": {},
   "outputs": [],
   "source": [
    "#Load classifier\n",
    "clf = joblib.load('InitialModel.pkl')"
   ]
  },
  {
   "cell_type": "code",
   "execution_count": 3,
   "metadata": {},
   "outputs": [
    {
     "name": "stdout",
     "output_type": "stream",
     "text": [
      "Number of tweets: 33602\n"
     ]
    }
   ],
   "source": [
    "dataset = OpenDataset(\"FullDataset.csv\")\n",
    "print(f\"Number of tweets: {len(dataset)}\")"
   ]
  },
  {
   "cell_type": "code",
   "execution_count": 4,
   "metadata": {},
   "outputs": [],
   "source": [
    "#Vaxine used\n",
    "\n",
    "vaxine = \"astrazeneca\"\n",
    "#vaxine = \"pfizer\"\n",
    "#vaxine = \"moderna\"\n",
    "#vaxine = \"sputnik\"\n",
    "#vaxine = \"johnson\""
   ]
  },
  {
   "cell_type": "code",
   "execution_count": 6,
   "metadata": {},
   "outputs": [
    {
     "name": "stdout",
     "output_type": "stream",
     "text": [
      "File tweetFiltered_labeled (that contain the predicted class for each label) has been created \n",
      "\n",
      "Classification result:\n",
      "dataset len: 752\n",
      "class 0 len: 10\n",
      "class 1 len: 7\n",
      "class 2 len: 735\n"
     ]
    },
    {
     "data": {
      "image/png": "[encoded data removed]",
      "text/plain": [
       "<Figure size 432x288 with 1 Axes>"
      ]
     },
     "metadata": {},
     "output_type": "display_data"
    }
   ],
   "source": [
    "#Search tweets of a specific period and on particural vaxine\n",
    "doClassification(dataset,clf,vaxine,start_date=\"2021-03-01\",end_date=\"2021-04-30\")"
   ]
  },
  {
   "cell_type": "code",
   "execution_count": null,
   "metadata": {},
   "outputs": [],
   "source": []
  }
 ],
 "metadata": {
  "kernelspec": {
   "display_name": "Python 3",
   "language": "python",
   "name": "python3"
  },
  "language_info": {
   "codemirror_mode": {
    "name": "ipython",
    "version": 3
   },
   "file_extension": ".py",
   "mimetype": "text/x-python",
   "name": "python",
   "nbconvert_exporter": "python",
   "pygments_lexer": "ipython3",
   "version": "3.8.5"
  }
 },
 "nbformat": 4,
 "nbformat_minor": 4
}
