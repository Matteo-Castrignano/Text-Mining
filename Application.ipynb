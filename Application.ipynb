{
 "cells": [
  {
   "cell_type": "code",
   "execution_count": 82,
   "metadata": {},
   "outputs": [],
   "source": [
    "import datetime\n",
    "import matplotlib.pyplot as plt\n",
    "import nltk\n",
    "import joblib\n",
    "import pandas as pd\n",
    "from sklearn.metrics import classification_report, confusion_matrix\n",
    "from sklearn.model_selection import cross_val_score, cross_val_predict\n",
    "import numpy as np\n",
    "from nltk.corpus import stopwords\n",
    "from nltk.stem import SnowballStemmer\n",
    "from sklearn.ensemble import RandomForestClassifier, AdaBoostClassifier\n",
    "from sklearn.feature_extraction.text import CountVectorizer, TfidfTransformer\n",
    "from sklearn.metrics import plot_confusion_matrix, f1_score\n",
    "from sklearn.model_selection import train_test_split\n",
    "from sklearn.naive_bayes import MultinomialNB\n",
    "from sklearn.neighbors import KNeighborsClassifier\n",
    "from sklearn import svm\n",
    "from sklearn import tree\n",
    "from sklearn import metrics\n",
    "from sklearn.pipeline import Pipeline\n",
    "from sklearn.feature_extraction.text import TfidfVectorizer\n",
    "from nltk.corpus import stopwords\n",
    "from sklearn.naive_bayes import MultinomialNB\n",
    "from sklearn.metrics import make_scorer, accuracy_score, precision_score, recall_score, f1_score\n",
    "from sklearn.model_selection import cross_validate\n",
    "pd.set_option('display.max_rows', 10000)"
   ]
  },
  {
   "cell_type": "code",
   "execution_count": 83,
   "metadata": {},
   "outputs": [],
   "source": [
    "def validate(date_text):\n",
    "    try:\n",
    "        datetime.datetime.strptime(date_text, '%Y-%m-%d')\n",
    "    except ValueError:\n",
    "        raise ValueError(\"Incorrect data format, should be YYYY-MM-DD\")"
   ]
  },
  {
   "cell_type": "code",
   "execution_count": 84,
   "metadata": {},
   "outputs": [],
   "source": [
    "italian_stemmer = SnowballStemmer('italian')\n",
    "class StemmedCountVectorizer(CountVectorizer):\n",
    "    def build_analyzer(self):\n",
    "        analyzer = super(StemmedCountVectorizer, self).build_analyzer()\n",
    "        return lambda doc: ([italian_stemmer.stem(w) for w in analyzer(doc)])"
   ]
  },
  {
   "cell_type": "code",
   "execution_count": 85,
   "metadata": {},
   "outputs": [],
   "source": [
    "def search_Vaxine_Period(df, vaxine, start_date = None, end_date = None):\n",
    "    \n",
    "    if start_date is None and end_date is None:\n",
    "        start_date = \"2021-02-01\"\n",
    "        end_date = \"2021-05-31\"\n",
    "    elif start_date is None:\n",
    "        start_date = \"2021-02-01\"\n",
    "    elif end_date is None:\n",
    "        end_date = \"2021-05-31\"    \n",
    "    else:\n",
    "        validate(start_date)\n",
    "        validate(end_date)\n",
    "    \n",
    "    vaxine = vaxine.lower()\n",
    "    \n",
    "    return test_set[(test_set['timestamp'] > start_date) & (test_set['timestamp'] < end_date) & (test_set[\"tweet\"].str.match(vaxine))]"
   ]
  },
  {
   "cell_type": "code",
   "execution_count": 86,
   "metadata": {},
   "outputs": [],
   "source": [
    "#Load classifier\n",
    "clf = joblib.load('model.pkl')"
   ]
  },
  {
   "cell_type": "code",
   "execution_count": 87,
   "metadata": {},
   "outputs": [],
   "source": [
    "#Load data and a short phase of preprocess\n",
    "test_set = pd.read_csv(\"prova.csv\",sep=',',usecols=['timestamp','tweet'])\n",
    "test_set.tweet=test_set.tweet.str.lower()\n",
    "#test_set.drop_duplicates(subset=['tweet'])"
   ]
  },
  {
   "cell_type": "code",
   "execution_count": 73,
   "metadata": {},
   "outputs": [],
   "source": [
    "#Vaxine used\n",
    "#vaxine = \"Astrazeneca\"\n",
    "vaxine = \"Pfizer\"\n",
    "#vaxine = \"Moderna\"\n",
    "#vaxine = \"Sputnik\"\n",
    "#vaxine = \"Johnson\""
   ]
  },
  {
   "cell_type": "code",
   "execution_count": 74,
   "metadata": {},
   "outputs": [],
   "source": [
    "#Search tweet on period and on particural vaxine\n",
    "data = search_Vaxine_Period(test_set, vaxine).copy()"
   ]
  },
  {
   "cell_type": "code",
   "execution_count": 75,
   "metadata": {},
   "outputs": [],
   "source": [
    "#Adopting the text classifier on a limited set of data\n",
    "data['label'] = clf.predict(data.tweet)\n",
    "test_set.to_csv(\"tweetFiltered_labeled.csv\")"
   ]
  },
  {
   "cell_type": "code",
   "execution_count": 88,
   "metadata": {},
   "outputs": [],
   "source": [
    "#Adopting the text classifier on all testset\n",
    "test_set[\"label\"] = clf.predict(test_set.tweet)\n",
    "test_set.to_csv(\"tweet_labeled.csv\")"
   ]
  },
  {
   "cell_type": "code",
   "execution_count": 98,
   "metadata": {},
   "outputs": [
    {
     "name": "stdout",
     "output_type": "stream",
     "text": [
      "dataset len: 10657\n",
      "class 0 len: 9586\n",
      "class 1 len: 641\n",
      "class 2 len: 430\n"
     ]
    }
   ],
   "source": [
    "#Count label\n",
    "label=[0,0,0]\n",
    "test_set.label=test_set.label.astype(int)\n",
    "\n",
    "for w in test_set.label:\n",
    "    if w == 0:\n",
    "        label[0] = label[0] +1\n",
    "    if w == 1:\n",
    "        label[1] = label[1] +1\n",
    "    if w == 2:\n",
    "        label[2] = label[2] +1\n",
    "    i = i+1\n",
    "\n",
    "print(\"dataset len: \" + str(len(test_set)))\n",
    "print(\"class 0 len: \" + str(label[0]))\n",
    "print(\"class 1 len: \" + str(label[1]))\n",
    "print(\"class 2 len: \" + str(label[2]))"
   ]
  },
  {
   "cell_type": "code",
   "execution_count": 99,
   "metadata": {},
   "outputs": [
    {
     "data": {
      "image/png": "[encoded data removed]",
      "text/plain": [
       "<Figure size 432x288 with 1 Axes>"
      ]
     },
     "metadata": {},
     "output_type": "display_data"
    }
   ],
   "source": [
    "#Pie-chart\n",
    "classes = [\"Negative\", \"Positive\", \"Neutro\"]\n",
    "plt.pie(label, labels=classes)\n",
    "plt.show()"
   ]
  },
  {
   "cell_type": "code",
   "execution_count": null,
   "metadata": {},
   "outputs": [],
   "source": []
  }
 ],
 "metadata": {
  "kernelspec": {
   "display_name": "Python 3",
   "language": "python",
   "name": "python3"
  },
  "language_info": {
   "codemirror_mode": {
    "name": "ipython",
    "version": 3
   },
   "file_extension": ".py",
   "mimetype": "text/x-python",
   "name": "python",
   "nbconvert_exporter": "python",
   "pygments_lexer": "ipython3",
   "version": "3.8.5"
  }
 },
 "nbformat": 4,
 "nbformat_minor": 4
}
