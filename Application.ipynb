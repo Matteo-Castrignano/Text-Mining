{
 "cells": [
  {
   "cell_type": "code",
   "execution_count": 1,
   "metadata": {},
   "outputs": [],
   "source": [
    "import datetime\n",
    "import matplotlib.pyplot as plt\n",
    "import nltk\n",
    "import joblib\n",
    "import pandas as pd\n",
    "from sklearn.metrics import classification_report, confusion_matrix\n",
    "from sklearn.model_selection import cross_val_score, cross_val_predict\n",
    "import numpy as np\n",
    "from nltk.corpus import stopwords\n",
    "from nltk.stem import SnowballStemmer\n",
    "from sklearn.ensemble import RandomForestClassifier, AdaBoostClassifier\n",
    "from sklearn.feature_extraction.text import CountVectorizer, TfidfTransformer\n",
    "from sklearn.metrics import plot_confusion_matrix, f1_score\n",
    "from sklearn.model_selection import train_test_split\n",
    "from sklearn.naive_bayes import MultinomialNB\n",
    "from sklearn.neighbors import KNeighborsClassifier\n",
    "from sklearn import svm\n",
    "from sklearn import tree\n",
    "from sklearn import metrics\n",
    "from sklearn.pipeline import Pipeline\n",
    "from sklearn.feature_extraction.text import TfidfVectorizer\n",
    "from nltk.corpus import stopwords\n",
    "from sklearn.naive_bayes import MultinomialNB\n",
    "from sklearn.metrics import make_scorer, accuracy_score, precision_score, recall_score, f1_score\n",
    "from sklearn.model_selection import cross_validate\n",
    "pd.set_option('display.max_rows', 10000)"
   ]
  },
  {
   "cell_type": "code",
   "execution_count": 2,
   "metadata": {},
   "outputs": [],
   "source": [
    "def validate(date_text):\n",
    "    try:\n",
    "        datetime.datetime.strptime(date_text, '%Y-%m-%d')\n",
    "    except ValueError:\n",
    "        raise ValueError(\"Incorrect data format, should be YYYY-MM-DD\")"
   ]
  },
  {
   "cell_type": "code",
   "execution_count": 3,
   "metadata": {},
   "outputs": [],
   "source": [
    "italian_stemmer = SnowballStemmer('italian')\n",
    "class StemmedCountVectorizer(CountVectorizer):\n",
    "    def build_analyzer(self):\n",
    "        analyzer = super(StemmedCountVectorizer, self).build_analyzer()\n",
    "        return lambda doc: ([italian_stemmer.stem(w) for w in analyzer(doc)])"
   ]
  },
  {
   "cell_type": "code",
   "execution_count": 4,
   "metadata": {},
   "outputs": [],
   "source": [
    "def search_Vaxine_Period(df, vaxine=None, start_date = \"2021-02-01\", end_date = \"2021-05-31\"):\n",
    "    \n",
    "    validate(start_date)\n",
    "    validate(end_date)\n",
    "       \n",
    "    if vaxine == None:\n",
    "        return test_set[(test_set['timestamp'] > start_date) & (test_set['timestamp'] < end_date)]    \n",
    "    else:\n",
    "        vaxine = vaxine.lower()\n",
    "        return test_set[(test_set['timestamp'] > start_date) & (test_set['timestamp'] < end_date) & (test_set[\"tweet\"].str.match(vaxine))]"
   ]
  },
  {
   "cell_type": "code",
   "execution_count": 5,
   "metadata": {},
   "outputs": [],
   "source": [
    "#Load classifier\n",
    "clf = joblib.load('InitialModel.pkl')"
   ]
  },
  {
   "cell_type": "code",
   "execution_count": 6,
   "metadata": {},
   "outputs": [
    {
     "name": "stdout",
     "output_type": "stream",
     "text": [
      "Number of tweets: 35296\n",
      "Number of tweets: 35296\n"
     ]
    }
   ],
   "source": [
    "#Load data and a short phase of preprocess\n",
    "test_set = pd.read_csv(\"test_set.csv\",sep=',',usecols=['timestamp','username','tweet'])\n",
    "print(f\"Number of tweets: {len(test_set)}\")\n",
    "test_set.drop_duplicates(subset=['tweet'])\n",
    "print(f\"Number of tweets: {len(test_set)}\")"
   ]
  },
  {
   "cell_type": "code",
   "execution_count": 7,
   "metadata": {},
   "outputs": [],
   "source": [
    "news = []\n",
    "with open('AccountToDelete.txt') as f:\n",
    "    for line in f:\n",
    "        news.append(line.strip())"
   ]
  },
  {
   "cell_type": "code",
   "execution_count": 8,
   "metadata": {},
   "outputs": [
    {
     "name": "stdout",
     "output_type": "stream",
     "text": [
      "Number of tweets: 33602\n"
     ]
    }
   ],
   "source": [
    "indexNames = test_set[ test_set['username'].isin(news)].index\n",
    "test_set.drop(indexNames, inplace=True)\n",
    "print(f\"Number of tweets: {len(test_set)}\")"
   ]
  },
  {
   "cell_type": "code",
   "execution_count": 9,
   "metadata": {},
   "outputs": [],
   "source": [
    "#Vaxine used\n",
    "#vaxine = \"astrazeneca\"\n",
    "#vaxine = \"pfizer\"\n",
    "#vaxine = \"moderna\"\n",
    "#vaxine = \"sputnik\"\n",
    "#vaxine = \"johnson\""
   ]
  },
  {
   "cell_type": "code",
   "execution_count": 10,
   "metadata": {},
   "outputs": [],
   "source": [
    "#Search tweet on period and on particural vaxine\n",
    "data = search_Vaxine_Period(test_set,start_date=\"2021-02-01\",end_date=\"2021-02-28\").copy()"
   ]
  },
  {
   "cell_type": "code",
   "execution_count": 19,
   "metadata": {},
   "outputs": [],
   "source": [
    "#Adopting the text classifier on a limited set of data\n",
    "data[\"label\"]= clf.predict(data.tweet)\n",
    "data = data.sort_values(by=['label'], ascending=False)\n",
    "data.to_csv(\"tweetFiltered_labeled.csv\")"
   ]
  },
  {
   "cell_type": "code",
   "execution_count": 20,
   "metadata": {},
   "outputs": [
    {
     "name": "stdout",
     "output_type": "stream",
     "text": [
      "dataset len: 3927\n",
      "class 0 len: 14\n",
      "class 1 len: 62\n",
      "class 2 len: 3851\n"
     ]
    }
   ],
   "source": [
    "#Count label\n",
    "label=[0,0,0]\n",
    "indexNames = data[data['label']==\"label\"].index\n",
    "data.drop(indexNames, inplace=True)\n",
    "data.label=data.label.astype(int)\n",
    "\n",
    "for w in data.label:\n",
    "    if w == 0:\n",
    "        label[0] = label[0] +1\n",
    "    if w == 1:\n",
    "        label[1] = label[1] +1\n",
    "    if w == 2:\n",
    "        label[2] = label[2] +1\n",
    "\n",
    "print(\"dataset len: \" + str(len(data)))\n",
    "print(\"class 0 len: \" + str(label[0]))\n",
    "print(\"class 1 len: \" + str(label[1]))\n",
    "print(\"class 2 len: \" + str(label[2]))"
   ]
  },
  {
   "cell_type": "code",
   "execution_count": 21,
   "metadata": {},
   "outputs": [
    {
     "data": {
      "image/png": "[encoded data removed]",
      "text/plain": [
       "<Figure size 432x288 with 1 Axes>"
      ]
     },
     "metadata": {},
     "output_type": "display_data"
    }
   ],
   "source": [
    "#Pie-chart\n",
    "classes = [\"Negative\", \"Positive\", \"Neutro\"]\n",
    "plt.pie(label, labels=classes)\n",
    "plt.show()"
   ]
  },
  {
   "cell_type": "code",
   "execution_count": null,
   "metadata": {},
   "outputs": [],
   "source": []
  }
 ],
 "metadata": {
  "kernelspec": {
   "display_name": "Python 3",
   "language": "python",
   "name": "python3"
  },
  "language_info": {
   "codemirror_mode": {
    "name": "ipython",
    "version": 3
   },
   "file_extension": ".py",
   "mimetype": "text/x-python",
   "name": "python",
   "nbconvert_exporter": "python",
   "pygments_lexer": "ipython3",
   "version": "3.8.5"
  }
 },
 "nbformat": 4,
 "nbformat_minor": 4
}
